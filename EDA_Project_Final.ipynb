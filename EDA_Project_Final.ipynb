{
  "nbformat": 4,
  "nbformat_minor": 0,
  "metadata": {
    "colab": {
      "private_outputs": true,
      "provenance": [],
      "collapsed_sections": [
        "vncDsAP0Gaoa",
        "FJNUwmbgGyua",
        "w6K7xa23Elo4",
        "yQaldy8SH6Dl",
        "PH-0ReGfmX4f",
        "mDgbUHAGgjLW",
        "0wOQAZs5pc--",
        "K5QZ13OEpz2H",
        "lQ7QKXXCp7Bj",
        "448CDAPjqfQr",
        "KSlN3yHqYklG",
        "t6dVpIINYklI",
        "ijmpgYnKYklI",
        "-JiQyfWJYklI",
        "EM7whBJCYoAo",
        "fge-S5ZAYoAp",
        "85gYPyotYoAp",
        "RoGjAbkUYoAp",
        "4Of9eVA-YrdM",
        "iky9q4vBYrdO",
        "F6T5p64dYrdO",
        "y-Ehk30pYrdP",
        "bamQiAODYuh1",
        "QHF8YVU7Yuh3",
        "GwzvFGzlYuh3",
        "qYpmQ266Yuh3",
        "OH-pJp9IphqM",
        "bbFf2-_FphqN",
        "_ouA3fa0phqN",
        "Seke61FWphqN",
        "PIIx-8_IphqN",
        "t27r6nlMphqO",
        "r2jJGEOYphqO",
        "b0JNsNcRphqO",
        "BZR9WyysphqO",
        "jj7wYXLtphqO",
        "eZrbJ2SmphqO",
        "rFu4xreNphqO",
        "YJ55k-q6phqO",
        "gCFgpxoyphqP",
        "OVtJsKN_phqQ",
        "lssrdh5qphqQ",
        "U2RJ9gkRphqQ",
        "1M8mcRywphqQ",
        "tgIPom80phqQ",
        "JMzcOPDDphqR",
        "x-EpHcCOp1ci",
        "X_VqEhTip1ck",
        "8zGJKyg5p1ck",
        "PVzmfK_Ep1ck",
        "n3dbpmDWp1ck",
        "ylSl6qgtp1ck",
        "ZWILFDl5p1ck",
        "M7G43BXep1ck",
        "Ag9LCva-p1cl",
        "E6MkPsBcp1cl",
        "2cELzS2fp1cl",
        "3MPXvC8up1cl",
        "NC_X3p0fY2L0",
        "UV0SzAkaZNRQ",
        "YPEH6qLeZNRQ",
        "q29F0dvdveiT",
        "EXh0U9oCveiU",
        "22aHeOlLveiV",
        "JcMwzZxoAimU",
        "8G2x9gOozGDZ",
        "gCX9965dhzqZ",
        "gIfDvo9L0UH2"
      ],
      "include_colab_link": true
    },
    "kernelspec": {
      "name": "python3",
      "display_name": "Python 3"
    },
    "language_info": {
      "name": "python"
    }
  },
  "cells": [
    {
      "cell_type": "markdown",
      "metadata": {
        "id": "view-in-github",
        "colab_type": "text"
      },
      "source": [
        "<a href=\"https://colab.research.google.com/github/AtharvaDarvekar/EDA_Airbnb_booking_analysis/blob/main/EDA_Project_Final.ipynb\" target=\"_parent\"><img src=\"https://colab.research.google.com/assets/colab-badge.svg\" alt=\"Open In Colab\"/></a>"
      ]
    },
    {
      "cell_type": "markdown",
      "source": [
        "# **Project Name**    -\n",
        "\n"
      ],
      "metadata": {
        "id": "vncDsAP0Gaoa"
      }
    },
    {
      "cell_type": "markdown",
      "source": [
        "##### **Project Type**    - EDA\n",
        "##### **Contribution**    - Individual\n",
        "##### **Team Member  -** Atharva Darvekar\n"
      ],
      "metadata": {
        "id": "beRrZCGUAJYm"
      }
    },
    {
      "cell_type": "markdown",
      "source": [
        "# **Project Summary -**"
      ],
      "metadata": {
        "id": "FJNUwmbgGyua"
      }
    },
    {
      "cell_type": "markdown",
      "source": [
        "*   Airbnb is an American company operating an online marketplace for short- and long-term homestays and experiences. The company acts as a broker and charges a commission from each booking. The company was founded in 2008.\n",
        "\n",
        "*   With millions of listings on its platform, Airbnb generates a vast amount of data that can be used to gain insights into the behavior and performance of hosts and guests. Guests and hosts have used Airbnb to expand on travelling possibilities and present a more unique, personalised way of experiencing the world.\n",
        "\n",
        "*   This project aims to explore and analyze a dataset of approximately 49,000 Airbnb listings with 16 columns.The dataset includes both categorical and numeric variables.\n",
        "\n",
        "*   We imported the necessary python libraries pandas, numpy, seaborn, matplotlib, etc. We performed dataset loading, data exploaration, data cleaning.\n",
        "\n",
        "*   In data exploration process, we identified the characteristics of the data such as the data types, missing values, and distributions of values.\n",
        "\n",
        "*   The data cleaning process involved identifying and addressing any issues or inconsistencies in the data, such as errors, missing values, or duplicate records and remove outliers.\n",
        "\n",
        "*   Through this process, we were able to identify and fix any issues with the data, and ensure that it was ready for further analysis. This is an important step in any data analysis project, as it allows us to work with high-quality data and avoid any potential biases or errors that could affect the results. The cleaned and prepared data can now be used for data visualization.\n",
        "\n",
        "*   Once the data has been cleaned and prepared, we created different visualizations to understand patterns in Airbnb data.Through this process, we were able to uncover trends and relationships in the data that would have been difficult to identify through raw data alone.\n",
        "\n",
        "*   The observations and insights we identified through this process will be useful for future analysis and decision-making related to Airbnb."
      ],
      "metadata": {
        "id": "F6v_1wHtG2nS"
      }
    },
    {
      "cell_type": "markdown",
      "source": [
        "# **GitHub Link -**"
      ],
      "metadata": {
        "id": "w6K7xa23Elo4"
      }
    },
    {
      "cell_type": "markdown",
      "source": [
        "https://github.com/AtharvaDarvekar/EDA_Airbnb_booking_analysis"
      ],
      "metadata": {
        "id": "h1o69JH3Eqqn"
      }
    },
    {
      "cell_type": "markdown",
      "source": [
        "# **Problem Statement**\n"
      ],
      "metadata": {
        "id": "yQaldy8SH6Dl"
      }
    },
    {
      "cell_type": "markdown",
      "source": [
        "\n",
        "\n",
        "1.   How listing prices are distributed?\n",
        "2.   What are the listing counts across different neighbourhoods?\n",
        "3.   What are the average prices in each neighbourhood group?\n",
        "4.   Display price distribution using violin plot.\n",
        "5.   Display the top neighbourhoods by listing count.\n",
        "6.   Show top hosts based on listing count using bar chart.\n",
        "7.   How many hosts are there in each neighbourhood group?\n",
        "8.   Show the most reviewed room type.\n",
        "9.   Show average prices of different neighbourhoods in geographical map.\n",
        "10.   What are the total counts of each room type?\n",
        "11.   What are the average prices of each room type?\n",
        "12.   How much reviews each neighbourhood got?\n",
        "13.   How different types of rooms are distributed across NYC?\n",
        "14.   Display geographical map that shows room types.\n",
        "15.   What are minimum stay requirements of listings?\n",
        "16.   What are average prices of corresponding minimum stay requirements?\n",
        "\n",
        "\n",
        "\n"
      ],
      "metadata": {
        "id": "DpeJGUA3kjGy"
      }
    },
    {
      "cell_type": "markdown",
      "source": [
        "#### **Define Your Business Objective?**"
      ],
      "metadata": {
        "id": "PH-0ReGfmX4f"
      }
    },
    {
      "cell_type": "markdown",
      "source": [
        "*   Airbnb is an online marketplace that connects people who want to rent out their homes with people who are looking for accommodations in that locale. For hosts, it's a way to earn money while protecting their property from potential damage.\n",
        "*   Our main objective is to find out how different factors such as location, room type, etc affects the price of the listing and to recommend hosts where then can invest in properties to get better future returns.\n",
        "*   For this, we will explore and visualize the dataset from Airbnb in NYC using basic exploratory data analysis (EDA) techniques.\n",
        "*   This can help in making strategic data-driven decisions by the marketing team, finance team and technical team of Airbnb.\n",
        "\n"
      ],
      "metadata": {
        "id": "PhDvGCAqmjP1"
      }
    },
    {
      "cell_type": "markdown",
      "source": [
        "# **General Guidelines** : -  "
      ],
      "metadata": {
        "id": "mDgbUHAGgjLW"
      }
    },
    {
      "cell_type": "markdown",
      "source": [
        "1.   Well-structured, formatted, and commented code is required.\n",
        "2.   Exception Handling, Production Grade Code & Deployment Ready Code will be a plus. Those students will be awarded some additional credits.\n",
        "     \n",
        "     The additional credits will have advantages over other students during Star Student selection.\n",
        "       \n",
        "             [ Note: - Deployment Ready Code is defined as, the whole .ipynb notebook should be executable in one go\n",
        "                       without a single error logged. ]\n",
        "\n",
        "3.   Each and every logic should have proper comments.\n",
        "4. You may add as many number of charts you want. Make Sure for each and every chart the following format should be answered.\n",
        "        \n",
        "\n",
        "```\n",
        "# Chart visualization code\n",
        "```\n",
        "            \n",
        "\n",
        "*   Why did you pick the specific chart?\n",
        "*   What is/are the insight(s) found from the chart?\n",
        "* Will the gained insights help creating a positive business impact?\n",
        "Are there any insights that lead to negative growth? Justify with specific reason.\n",
        "\n",
        "5. You have to create at least 20 logical & meaningful charts having important insights.\n",
        "\n",
        "\n",
        "[ Hints : - Do the Vizualization in  a structured way while following \"UBM\" Rule.\n",
        "\n",
        "U - Univariate Analysis,\n",
        "\n",
        "B - Bivariate Analysis (Numerical - Categorical, Numerical - Numerical, Categorical - Categorical)\n",
        "\n",
        "M - Multivariate Analysis\n",
        " ]\n",
        "\n",
        "\n",
        "\n"
      ],
      "metadata": {
        "id": "ZrxVaUj-hHfC"
      }
    },
    {
      "cell_type": "markdown",
      "source": [
        "# ***Let's Begin !***"
      ],
      "metadata": {
        "id": "O_i_v8NEhb9l"
      }
    },
    {
      "cell_type": "markdown",
      "source": [
        "## ***1. Know Your Data***"
      ],
      "metadata": {
        "id": "HhfV-JJviCcP"
      }
    },
    {
      "cell_type": "markdown",
      "source": [
        "### Import Libraries"
      ],
      "metadata": {
        "id": "Y3lxredqlCYt"
      }
    },
    {
      "cell_type": "code",
      "source": [
        "# Import libraries\n",
        "import pandas as pd\n",
        "import numpy as np\n",
        "import seaborn as sns\n",
        "import matplotlib.pyplot as plt"
      ],
      "metadata": {
        "id": "M8Vqi-pPk-HR"
      },
      "execution_count": null,
      "outputs": []
    },
    {
      "cell_type": "markdown",
      "source": [
        "### Dataset Loading"
      ],
      "metadata": {
        "id": "3RnN4peoiCZX"
      }
    },
    {
      "cell_type": "code",
      "source": [
        "# Load the dataset\n",
        "# Mount the drive, so that we can access the files\n",
        "from google.colab import drive\n",
        "drive.mount('/content/drive')"
      ],
      "metadata": {
        "id": "4CkvbW_SlZ_R"
      },
      "execution_count": null,
      "outputs": []
    },
    {
      "cell_type": "code",
      "source": [
        "# Filepath of the dataset on drive\n",
        "filepath = '/content/drive/MyDrive/Colab Notebooks/Datasets/Airbnb NYC 2019.csv'\n",
        "airbnb_df = pd.read_csv(filepath)"
      ],
      "metadata": {
        "id": "3JSbDA62G0v0"
      },
      "execution_count": null,
      "outputs": []
    },
    {
      "cell_type": "markdown",
      "source": [
        "### Dataset First View"
      ],
      "metadata": {
        "id": "x71ZqKXriCWQ"
      }
    },
    {
      "cell_type": "code",
      "source": [
        "# Dataset first look\n",
        "airbnb_df"
      ],
      "metadata": {
        "id": "LWNFOSvLl09H"
      },
      "execution_count": null,
      "outputs": []
    },
    {
      "cell_type": "code",
      "source": [
        "# First five rows of the dataset\n",
        "airbnb_df.head()"
      ],
      "metadata": {
        "id": "LDjLH_pEggYw"
      },
      "execution_count": null,
      "outputs": []
    },
    {
      "cell_type": "code",
      "source": [
        "# Last five rows of the dataset\n",
        "airbnb_df.tail()"
      ],
      "metadata": {
        "id": "AchK-0Eog3Kb"
      },
      "execution_count": null,
      "outputs": []
    },
    {
      "cell_type": "markdown",
      "source": [
        "### Dataset Rows & Columns count"
      ],
      "metadata": {
        "id": "7hBIi_osiCS2"
      }
    },
    {
      "cell_type": "code",
      "source": [
        "# Dataset Rows & Columns count using shape method\n",
        "df_shape = airbnb_df.shape\n",
        "print('Number of rows : ', df_shape[0])\n",
        "print('Number of columns : ', df_shape[1])"
      ],
      "metadata": {
        "id": "Kllu7SJgmLij"
      },
      "execution_count": null,
      "outputs": []
    },
    {
      "cell_type": "markdown",
      "source": [
        "### Dataset Information"
      ],
      "metadata": {
        "id": "JlHwYmJAmNHm"
      }
    },
    {
      "cell_type": "code",
      "source": [
        "# Dataset Information\n",
        "airbnb_df.info()"
      ],
      "metadata": {
        "id": "e9hRXRi6meOf"
      },
      "execution_count": null,
      "outputs": []
    },
    {
      "cell_type": "markdown",
      "source": [
        "#### Renaming columns"
      ],
      "metadata": {
        "id": "mQpFV6I6oxZP"
      }
    },
    {
      "cell_type": "code",
      "source": [
        "# Create a dictionary to store new column names\n",
        "rename_columns = {'id':'listing_id','name':'listing_name','number_of_reviews':'total_reviews','calculated_host_listings_count':'host_listings_count'}"
      ],
      "metadata": {
        "id": "d9tqrTQ3oyQa"
      },
      "execution_count": null,
      "outputs": []
    },
    {
      "cell_type": "code",
      "source": [
        "# Use a pandas rename function to rename the current columns\n",
        "airbnb_df = airbnb_df.rename(columns = rename_columns)\n",
        "airbnb_df.head()"
      ],
      "metadata": {
        "id": "C45m74tEp7OJ"
      },
      "execution_count": null,
      "outputs": []
    },
    {
      "cell_type": "code",
      "source": [
        "#Basic information about the dataset\n",
        "airbnb_df.info()"
      ],
      "metadata": {
        "id": "oWDKf6EtqCjO"
      },
      "execution_count": null,
      "outputs": []
    },
    {
      "cell_type": "code",
      "source": [
        "# Hence the columns are renamed successfully."
      ],
      "metadata": {
        "id": "oCNmqkqbw9ux"
      },
      "execution_count": null,
      "outputs": []
    },
    {
      "cell_type": "markdown",
      "source": [
        "#### Duplicate Values"
      ],
      "metadata": {
        "id": "35m5QtbWiB9F"
      }
    },
    {
      "cell_type": "code",
      "source": [
        "# Drop duplicate rows using drop_duplicates method\n",
        "airbnb_df.drop_duplicates(inplace=True)\n",
        "airbnb_df.count()"
      ],
      "metadata": {
        "id": "1sLdpKYkmox0"
      },
      "execution_count": null,
      "outputs": []
    },
    {
      "cell_type": "code",
      "source": [
        "# Checking count of duplicate rows\n",
        "len(airbnb_df)-len(airbnb_df.drop_duplicates())"
      ],
      "metadata": {
        "id": "70pt3d7ajvUK"
      },
      "execution_count": null,
      "outputs": []
    },
    {
      "cell_type": "code",
      "source": [
        "# Number of rows remains same before and after the drop_duplicates method applied on dataset.\n",
        "# As well as above difference is also 0."
      ],
      "metadata": {
        "id": "W2FEEqEVLcAz"
      },
      "execution_count": null,
      "outputs": []
    },
    {
      "cell_type": "code",
      "source": [
        "# Hence there are no duplicte rows in the dataset."
      ],
      "metadata": {
        "id": "KUWaIqUdxHHX"
      },
      "execution_count": null,
      "outputs": []
    },
    {
      "cell_type": "markdown",
      "source": [
        "#### Missing Values/Null Values"
      ],
      "metadata": {
        "id": "PoPl-ycgm1ru"
      }
    },
    {
      "cell_type": "code",
      "source": [
        "# Missing Values/Null Values Count\n",
        "airbnb_df.isnull().sum()"
      ],
      "metadata": {
        "id": "GgHWkxvamxVg"
      },
      "execution_count": null,
      "outputs": []
    },
    {
      "cell_type": "code",
      "source": [
        "# Columns listing_name and host_name does't have that much of null values. So we filled them with a common value 'not_known' and 'no_name' respectively\n",
        "airbnb_df['listing_name'].fillna('not_known', inplace=True)\n",
        "airbnb_df['host_name'].fillna('no_name', inplace=True)"
      ],
      "metadata": {
        "id": "iTwoWncEMk3r"
      },
      "execution_count": null,
      "outputs": []
    },
    {
      "cell_type": "code",
      "source": [
        "# Hence null values of these two columns are removed\n",
        "# Cheking whether null values were replaced by a common value or not\n",
        "airbnb_df[['listing_name', 'host_name']].isnull().sum()"
      ],
      "metadata": {
        "id": "6xoCUttUk1rF"
      },
      "execution_count": null,
      "outputs": []
    },
    {
      "cell_type": "code",
      "source": [
        "# Replacing null values with 0 in reviews_per_month column\n",
        "airbnb_df['reviews_per_month'] = airbnb_df['reviews_per_month'].replace(np.nan, 0).astype('int64')\n",
        "airbnb_df[['reviews_per_month']].isnull().sum()"
      ],
      "metadata": {
        "id": "3q5wnI3om9sJ"
      },
      "execution_count": null,
      "outputs": []
    },
    {
      "cell_type": "code",
      "source": [
        "# We can drop last review column because it's last date on which someone posted a review. We don't need it for analysis purpose.\n",
        "airbnb_df.drop(['last_review'], axis=1, inplace=True)"
      ],
      "metadata": {
        "id": "H1lefXKxs_hB"
      },
      "execution_count": null,
      "outputs": []
    },
    {
      "cell_type": "code",
      "source": [
        "# Missing values count after data cleaning\n",
        "airbnb_df.isnull().sum()"
      ],
      "metadata": {
        "id": "Yl_hKRWmt_4K"
      },
      "execution_count": null,
      "outputs": []
    },
    {
      "cell_type": "code",
      "source": [
        "# Get basic info of our dataset\n",
        "airbnb_df.info()"
      ],
      "metadata": {
        "id": "BtB5yaxnv8xX"
      },
      "execution_count": null,
      "outputs": []
    },
    {
      "cell_type": "code",
      "source": [
        "# Every column has a same non-null count i.e. 48895 which indicates there are no null values in the dataset."
      ],
      "metadata": {
        "id": "NoltX8Fjx62h"
      },
      "execution_count": null,
      "outputs": []
    },
    {
      "cell_type": "code",
      "source": [
        "# Getting shape of our dataset\n",
        "airbnb_df.shape"
      ],
      "metadata": {
        "id": "HZOdDIyQu7Mw"
      },
      "execution_count": null,
      "outputs": []
    },
    {
      "cell_type": "code",
      "source": [
        "# Getting our dataset to check if changes are reflected or not\n",
        "airbnb_df"
      ],
      "metadata": {
        "id": "u2b3ImP1u_V8"
      },
      "execution_count": null,
      "outputs": []
    },
    {
      "cell_type": "markdown",
      "source": [
        "### What did you know about your dataset?"
      ],
      "metadata": {
        "id": "H0kj-8xxnORC"
      }
    },
    {
      "cell_type": "markdown",
      "source": [
        "*   This dataset is about night stays provided in different regions in new york city.\n",
        "*   This dataset has around 49000 observations and 16 columns.\n",
        "*   It is a mix of categorical and numerical values.\n",
        "*   It contains type of room selected, name of the host as well as listing, reviews, location, etc."
      ],
      "metadata": {
        "id": "gfoNAAC-nUe_"
      }
    },
    {
      "cell_type": "markdown",
      "source": [
        "## ***2. Understanding Your Variables***"
      ],
      "metadata": {
        "id": "nA9Y7ga8ng1Z"
      }
    },
    {
      "cell_type": "code",
      "source": [
        "# Dataset Columns\n",
        "airbnb_df.columns"
      ],
      "metadata": {
        "id": "j7xfkqrt5Ag5"
      },
      "execution_count": null,
      "outputs": []
    },
    {
      "cell_type": "code",
      "source": [
        "# Dataset Description\n",
        "airbnb_df.describe()"
      ],
      "metadata": {
        "id": "DnOaZdaE5Q5t"
      },
      "execution_count": null,
      "outputs": []
    },
    {
      "cell_type": "markdown",
      "source": [
        "### Variables Description"
      ],
      "metadata": {
        "id": "PBTbrJXOngz2"
      }
    },
    {
      "cell_type": "markdown",
      "source": [
        "\n",
        "*   listing_id - This is the unique identifier for each listing in the dataset\n",
        "*   listing_name - This is the name of the listing\n",
        "\n",
        "*   host_id - This is unique indentifier for each host in the dataset\n",
        "\n",
        "*   host_name :- This is the name of the host.\n",
        "\n",
        "*   neighbourhood_group :- This is a grouping of neighborhoods or boroughs in New York City, There are total 5 of them such as Manhattan or Brooklyn, etc.\n",
        "\n",
        "*   neighbourhood :- This is the specific neighborhood in which the listing is located.\n",
        "\n",
        "*   latitude :- This is the geographic latitude of the listing.\n",
        "\n",
        "*   longitude :- This is the geographic longitude of the listing.\n",
        "*   room_type :- This is the type of room being offered, such as an entire home, private room or shared room.\n",
        "*   price :- This is the nightly price for the listing in US dollars.\n",
        "\n",
        "\n",
        "*   minimum_nights :- This is the minimum number of nights that a guest must pay for.\n",
        "\n",
        "\n",
        "*   total_reviews :- This is the total number of reviews that the listing has received.\n",
        "\n",
        "\n",
        "*   last Review :- Date at which last review is posted by some guest. (Dropped from dataset because not required for analysis)\n",
        "\n",
        "*   reviews_per_month :- This is the average number of reviews that the listing receives per month.\n",
        "\n",
        "*   host_listings_count :- This is the total number of listings that the host has on Airbnb website.\n",
        "\n",
        "\n",
        "*   availability_365 :- This is the number of days in the next 365 days that the listing is available for booking.\n",
        "\n",
        "\n",
        "\n",
        "\n"
      ],
      "metadata": {
        "id": "aJV4KIxSnxay"
      }
    },
    {
      "cell_type": "markdown",
      "source": [
        "### Check Unique Values for each variable."
      ],
      "metadata": {
        "id": "u3PMJOP6ngxN"
      }
    },
    {
      "cell_type": "code",
      "source": [
        "# Check for Unique Values for each variable.\n",
        "all_columns = airbnb_df.columns\n",
        "for col in all_columns:\n",
        "  print(f\"{col} : {airbnb_df[col].nunique()}\")"
      ],
      "metadata": {
        "id": "zms12Yq5n-jE"
      },
      "execution_count": null,
      "outputs": []
    },
    {
      "cell_type": "code",
      "source": [
        "# On the basis of above data we can say that\n",
        "# 1) Every value in the columns id is unique\n",
        "# 2) There are total 5 neighbourhood groups which consists of 221 neighbourhoods."
      ],
      "metadata": {
        "id": "vqmvqu-BObQK"
      },
      "execution_count": null,
      "outputs": []
    },
    {
      "cell_type": "markdown",
      "source": [
        "## 3. ***Removing outliers***"
      ],
      "metadata": {
        "id": "dauF4eBmngu3"
      }
    },
    {
      "cell_type": "code",
      "source": [
        "# Write your code to make your dataset analysis ready."
      ],
      "metadata": {
        "id": "wk-9a2fpoLcV"
      },
      "execution_count": null,
      "outputs": []
    },
    {
      "cell_type": "code",
      "source": [
        "# info before removing outliers\n",
        "airbnb_df.info()"
      ],
      "metadata": {
        "id": "g8-8g_TE6rFS"
      },
      "execution_count": null,
      "outputs": []
    },
    {
      "cell_type": "code",
      "source": [
        "#  Describe the DataFrame\n",
        "airbnb_df.describe()"
      ],
      "metadata": {
        "id": "hxwd_1bt4xF1"
      },
      "execution_count": null,
      "outputs": []
    },
    {
      "cell_type": "code",
      "source": [
        "# Finding outliers in price column\n",
        "sns.boxplot(x = airbnb_df['price'])\n",
        "\n",
        "plt.show()"
      ],
      "metadata": {
        "id": "isb8xfH8u1nL"
      },
      "execution_count": null,
      "outputs": []
    },
    {
      "cell_type": "code",
      "source": [
        "# Printing max price before outlier removal\n",
        "print(airbnb_df['price'].max())"
      ],
      "metadata": {
        "id": "2tSV1wxa6jhk"
      },
      "execution_count": null,
      "outputs": []
    },
    {
      "cell_type": "code",
      "source": [
        "# Writing a outlier function for removing outliers in important columns.\n",
        "def iqr_technique(DFcolumn):\n",
        "  Q1 = np.percentile(DFcolumn, 25)\n",
        "  Q3 = np.percentile(DFcolumn, 75)\n",
        "  IQR = Q3 - Q1\n",
        "  lower_range = Q1 - (1.5 * IQR)\n",
        "  upper_range = Q3 + (1.5 * IQR)                        # interquantile range\n",
        "\n",
        "  return lower_range,upper_range"
      ],
      "metadata": {
        "id": "mQjyuwHiuQsn"
      },
      "execution_count": null,
      "outputs": []
    },
    {
      "cell_type": "code",
      "source": [
        "lower_bound,upper_bound = iqr_technique(airbnb_df['price'])\n",
        "\n",
        "airbnb_df = airbnb_df[(airbnb_df.price>lower_bound) & (airbnb_df.price< upper_bound)]"
      ],
      "metadata": {
        "id": "UHDci_ipumvz"
      },
      "execution_count": null,
      "outputs": []
    },
    {
      "cell_type": "code",
      "source": [
        "# So the outliers are removed from price column now check the boxplot and also check the shape of new Dataframe!\n",
        "\n",
        "sns.boxplot(x = airbnb_df['price'])\n",
        "print(airbnb_df.shape)"
      ],
      "metadata": {
        "id": "6ppHbsNru0qc"
      },
      "execution_count": null,
      "outputs": []
    },
    {
      "cell_type": "code",
      "source": [
        "# printing price after outlier removal\n",
        "print(airbnb_df['price'].max())"
      ],
      "metadata": {
        "id": "AEsI1udX851e"
      },
      "execution_count": null,
      "outputs": []
    },
    {
      "cell_type": "code",
      "source": [
        "# Info after removing outliers\n",
        "airbnb_df.info()"
      ],
      "metadata": {
        "id": "rZKBQa0PRySV"
      },
      "execution_count": null,
      "outputs": []
    },
    {
      "cell_type": "code",
      "source": [
        "# Getting shape of the dataset\n",
        "airbnb_df.shape"
      ],
      "metadata": {
        "id": "oPzj7bYtB2_S"
      },
      "execution_count": null,
      "outputs": []
    },
    {
      "cell_type": "markdown",
      "source": [
        "**Hence dataset is ready for data visualization.**"
      ],
      "metadata": {
        "id": "88bacIuM8iMu"
      }
    },
    {
      "cell_type": "markdown",
      "source": [
        "### What all manipulations have you done and insights you found?"
      ],
      "metadata": {
        "id": "MSa1f5Uengrz"
      }
    },
    {
      "cell_type": "markdown",
      "source": [
        "*   We first imported necessary libraries like pandas, numpy, seaborn, matplotlib, etc. Then we read the dataset using read_csv() method.\n",
        "\n",
        "*   We used methods like info() and describe() to get dataset information and description respectively.\n",
        "\n",
        "*   Then we renamed the columns id, name, number_of_reviews, calculated_host_listings_count as listing_id, listing_name, total_reviews, host_listings_count respectively for better understanding.\n",
        "\n",
        "\n",
        "*   We also dropped duplicate rows, handled missing values using constant value imputation and removed outliers in price column using interquartile range method.\n",
        "\n",
        "\n",
        "*   After the processing, there are 45918 non-null rows and 15 columns in the dataset. And our dataset is ready for futher analysis.   \n",
        "\n",
        "\n",
        "\n",
        "\n"
      ],
      "metadata": {
        "id": "LbyXE7I1olp8"
      }
    },
    {
      "cell_type": "markdown",
      "source": [
        "## ***4. Data Vizualization, Storytelling & Experimenting with charts : Understand the relationships between variables***"
      ],
      "metadata": {
        "id": "GF8Ens_Soomf"
      }
    },
    {
      "cell_type": "markdown",
      "source": [
        "#### Chart - 1 (Distribution of airbnb bookings price range using histogram)"
      ],
      "metadata": {
        "id": "0wOQAZs5pc--"
      }
    },
    {
      "cell_type": "code",
      "source": [
        "# Set the figure size\n",
        "plt.figure(figsize=(8, 5))\n",
        "\n",
        "# Create the histogram\n",
        "sns.histplot(data=airbnb_df, x=airbnb_df['price'], kde=True)\n",
        "\n",
        "# Add axis labels and a title\n",
        "plt.xlabel('Price')\n",
        "plt.ylabel('Count of prices')\n",
        "plt.title('Distribution of Airbnb Prices')\n",
        "\n",
        "# Display histogram\n",
        "plt.show()"
      ],
      "metadata": {
        "id": "7v_ESjsspbW7"
      },
      "execution_count": null,
      "outputs": []
    },
    {
      "cell_type": "markdown",
      "source": [
        "##### 1. Why did you pick the specific chart?"
      ],
      "metadata": {
        "id": "K5QZ13OEpz2H"
      }
    },
    {
      "cell_type": "markdown",
      "source": [
        "Histogram is used to display distribution of numeric values. Here we want to show the distribution of price which is a numeric column."
      ],
      "metadata": {
        "id": "XESiWehPqBRc"
      }
    },
    {
      "cell_type": "markdown",
      "source": [
        "##### 2. What is/are the insight(s) found from the chart?"
      ],
      "metadata": {
        "id": "lQ7QKXXCp7Bj"
      }
    },
    {
      "cell_type": "markdown",
      "source": [
        "1.   The Range of the prices of the listings fall between 30 dollars to 350 dollars.\n",
        "2.   Majority of the listings have prices between 50 dollars to 200 dollars.\n",
        "3.   The distribution of prices appears to have a peak in the 50 to 150 dollars range, with a relatively lower count of listings in higher and lower price ranges.\n",
        "4.   There are very few listings whose prices are below 30 dollars and above 250 dollars."
      ],
      "metadata": {
        "id": "C_j1G7yiqdRP"
      }
    },
    {
      "cell_type": "markdown",
      "source": [
        "##### 3. Will the gained insights help creating a positive business impact?\n",
        "Are there any insights that lead to negative growth? Justify with specific reason."
      ],
      "metadata": {
        "id": "448CDAPjqfQr"
      }
    },
    {
      "cell_type": "markdown",
      "source": [
        "It is creating a positive impact because there are large number of listings whose prices are moderate which are affordable for travellers or guests."
      ],
      "metadata": {
        "id": "3cspy4FjqxJW"
      }
    },
    {
      "cell_type": "markdown",
      "source": [
        "#### Chart - 2 (Total listing count in each neighbourhood group by using barplot)"
      ],
      "metadata": {
        "id": "KSlN3yHqYklG"
      }
    },
    {
      "cell_type": "code",
      "source": [
        "# Create a dataframe to store listing counts of neighbourhood groups\n",
        "counts_series = airbnb_df['neighbourhood_group'].value_counts()\n",
        "\n",
        "# Reset the index of the series\n",
        "neighbourhood_group_df = counts_series.reset_index()\n",
        "\n",
        "# Rename the columns of the dataframe\n",
        "neighbourhood_group_df.columns = ['Neighbourhood_groups', 'Listing_counts']\n",
        "\n",
        "# display the resulting DataFrame\n",
        "neighbourhood_group_df"
      ],
      "metadata": {
        "id": "R4YgtaqtYklH"
      },
      "execution_count": null,
      "outputs": []
    },
    {
      "cell_type": "code",
      "source": [
        "# Set the figure size\n",
        "plt.figure(figsize=(8, 5))\n",
        "\n",
        "# Create the barplot\n",
        "sns.barplot(data=neighbourhood_group_df, x='Neighbourhood_groups', y='Listing_counts', hue='Neighbourhood_groups')\n",
        "\n",
        "# Add axis labels and a title\n",
        "plt.xlabel('Neighbourhood groups')\n",
        "plt.ylabel('Total listing count')\n",
        "plt.title('Count of listings in different groups')\n",
        "\n",
        "# Display barplot\n",
        "plt.show()"
      ],
      "metadata": {
        "id": "DfG8rVzp7vUJ"
      },
      "execution_count": null,
      "outputs": []
    },
    {
      "cell_type": "markdown",
      "source": [
        "##### 1. Why did you pick the specific chart?"
      ],
      "metadata": {
        "id": "t6dVpIINYklI"
      }
    },
    {
      "cell_type": "markdown",
      "source": [
        "We have used bar plot here because neighbourhood_groups is categorical variable. So by using bar plot, we can compare values of different categories."
      ],
      "metadata": {
        "id": "5aaW0BYyYklI"
      }
    },
    {
      "cell_type": "markdown",
      "source": [
        "##### 2. What is/are the insight(s) found from the chart?"
      ],
      "metadata": {
        "id": "ijmpgYnKYklI"
      }
    },
    {
      "cell_type": "markdown",
      "source": [
        "1.   Manhattan and Brooklyn have the highest number of listings on Airbnb, with over 19,000 listings each.\n",
        "2.   Queens and Bronx have fewer number of listings compared to Manhattan and Brooklyn.\n",
        "3.   Staten Island have lowest number of listings.\n",
        "\n",
        "1.   Despite being larger in size, Queens, Bronx, and Staten Island have fewer listings on Airbnb compared to Manhattan or Brooklyn, which has a smaller geographical area.\n",
        "2.   This suggests that the demand for Airbnb rentals is higher in Manhattan and Brooklyn as compared to the other neighborhood groups, leading to a higher concentration of listings in this area.\n",
        "\n"
      ],
      "metadata": {
        "id": "PSx9atu2YklI"
      }
    },
    {
      "cell_type": "markdown",
      "source": [
        "##### 3. Will the gained insights help creating a positive business impact?\n",
        "Are there any insights that lead to negative growth? Justify with specific reason."
      ],
      "metadata": {
        "id": "I0EvSwxUOEe3"
      }
    },
    {
      "cell_type": "markdown",
      "source": [
        "There are much more opportunities for airbnb to grow its business in Queens, Bronx and Staten Island due to very fewer number of listings in those regions."
      ],
      "metadata": {
        "id": "lfcyLG95OEfH"
      }
    },
    {
      "cell_type": "markdown",
      "source": [
        "#### Chart - 3 (Average prices by neighbourhood groups using point plot)"
      ],
      "metadata": {
        "id": "EM7whBJCYoAo"
      }
    },
    {
      "cell_type": "code",
      "source": [
        "# Group the Airbnb dataset by neighborhood group and calculate the mean of each group\n",
        "group = airbnb_df.groupby([\"neighbourhood_group\"]).mean('price')\n",
        "\n",
        "# Reset the index of the grouped dataframe so that the neighborhood group becomes a column\n",
        "neighbourhood_group_avg_price = group.reset_index()\n",
        "\n",
        "# Rename the \"price\" column to \"avg_price\"\n",
        "neighbourhood_group_avg_price = round(neighbourhood_group_avg_price.rename(columns={\"price\": \"avg_price\"}),2)\n",
        "\n",
        "# Select only the \"neighbourhood_group\" and \"avg_price\" columns\n",
        "neighbourhood_group_avg_price_df = neighbourhood_group_avg_price[['neighbourhood_group', 'avg_price']].head()\n",
        "neighbourhood_group_avg_price_df"
      ],
      "metadata": {
        "id": "t6GMdE67YoAp"
      },
      "execution_count": null,
      "outputs": []
    },
    {
      "cell_type": "code",
      "source": [
        "# Set the figure size\n",
        "plt.figure(figsize=(8, 5))\n",
        "\n",
        "# Create pointplot\n",
        "sns.pointplot(x = 'neighbourhood_group', y='price', data=airbnb_df, estimator = np.mean)\n",
        "\n",
        "# Add axis labels and a title\n",
        "plt.xlabel('Neighbourhood groups')\n",
        "plt.ylabel('Average price')\n",
        "plt.title('Averge Prices by neighbourhood groups')\n",
        "\n",
        "# Display pointplot\n",
        "plt.show()"
      ],
      "metadata": {
        "id": "DtyYgib0HeLM"
      },
      "execution_count": null,
      "outputs": []
    },
    {
      "cell_type": "markdown",
      "source": [
        "##### 1. Why did you pick the specific chart?"
      ],
      "metadata": {
        "id": "fge-S5ZAYoAp"
      }
    },
    {
      "cell_type": "markdown",
      "source": [
        "A point plot represents an estimate of central tendency for a numeric variable by the position of the dot and provides some indication of the uncertainty around that estimate using error bars. Here our numeric variable is avg_price.\n"
      ],
      "metadata": {
        "id": "5dBItgRVYoAp"
      }
    },
    {
      "cell_type": "markdown",
      "source": [
        "##### 2. What is/are the insight(s) found from the chart?"
      ],
      "metadata": {
        "id": "85gYPyotYoAp"
      }
    },
    {
      "cell_type": "markdown",
      "source": [
        "\n",
        "\n",
        "1.   The average price of a listing in New York City varies significantly across different neighborhoods, with Manhattan having the highest 146 dollars/day average price and the Bronx having the lowest near 77 dollars/day.   \n",
        "2.   Most of the Listings in Bronx have minimum prices among other neighbourhood groups.\n",
        "3.   The average price in queens and Staten Island is relatively similar, despite being in different parts of the city.\n",
        "4.   The average price increases as you move from the outer boroughs (Bronx, Brooklyn, Queens, and Staten Island) towards the center of the city (Manhattan).\n",
        "\n",
        "\n",
        "\n"
      ],
      "metadata": {
        "id": "4jstXR6OYoAp"
      }
    },
    {
      "cell_type": "markdown",
      "source": [
        "#### Chart - 4 ( Price distribution of each neighborhood group using violin plot)"
      ],
      "metadata": {
        "id": "lYOtb1Btxddd"
      }
    },
    {
      "cell_type": "code",
      "source": [
        "# Set the figure size\n",
        "plt.figure(figsize=(8, 5))\n",
        "\n",
        "# Create the violinplot\n",
        "sns.violinplot(x='neighbourhood_group', y='price', hue='neighbourhood_group', data= airbnb_df)\n",
        "\n",
        "# Add axis labels and a title\n",
        "plt.xlabel('Neighbourhood groups')\n",
        "plt.ylabel('Price')\n",
        "plt.title('Distribution of price in each neighbourhood group')\n",
        "\n",
        "# Display pointplot\n",
        "plt.show()"
      ],
      "metadata": {
        "id": "_9BZTJvgxddm"
      },
      "execution_count": null,
      "outputs": []
    },
    {
      "cell_type": "markdown",
      "source": [
        "##### 1. Why did you pick the specific chart?"
      ],
      "metadata": {
        "id": "tsH2sjy9xddn"
      }
    },
    {
      "cell_type": "markdown",
      "source": [
        "Violinplot is used to observe the distribution of numeric data. It's called violinplot because it takes the shape of violin. Here we have plotted violinplot to display the distribution of prices across different neighbourhood groups."
      ],
      "metadata": {
        "id": "BPlbblOmyOn6"
      }
    },
    {
      "cell_type": "markdown",
      "source": [
        "##### 2. What is/are the insight(s) found from the chart?"
      ],
      "metadata": {
        "id": "eWMPMMDLxddn"
      }
    },
    {
      "cell_type": "markdown",
      "source": [
        "\n",
        "\n",
        "1.   Price distribution is very high in Manhattan and Brooklyn. but Manhattan have more Diversity in price range, you can see in violin plot.\n",
        "2.   Queens and Bronx have same price distribution but in Queens area more distribution in 50 to 100 but diversity in price is not like Manhattan and Brooklyn."
      ],
      "metadata": {
        "id": "8vPd4_Jlxddn"
      }
    },
    {
      "cell_type": "markdown",
      "source": [
        "#### Chart - 5 (Top neighbourhoods by listing count using bar plot)"
      ],
      "metadata": {
        "id": "4Of9eVA-YrdM"
      }
    },
    {
      "cell_type": "code",
      "source": [
        "# Get top 10 neighbourhoods using slicing and Reset the index\n",
        "top_neighbourhoods = airbnb_df['neighbourhood'].value_counts()[:10].reset_index()\n",
        "\n",
        "# Dataframe of top 10 neighbourhoods\n",
        "top_neighbourhoods"
      ],
      "metadata": {
        "id": "irlUoxc8YrdO"
      },
      "execution_count": null,
      "outputs": []
    },
    {
      "cell_type": "code",
      "source": [
        "# Set the figure size\n",
        "plt.figure(figsize=(18, 5))\n",
        "\n",
        "# Create the barplot\n",
        "sns.barplot(data=top_neighbourhoods, x='neighbourhood', y='count',hue='neighbourhood')\n",
        "\n",
        "# Add axis labels and a title\n",
        "plt.xlabel('Neighbourhoods')\n",
        "plt.ylabel('Listing Counts')\n",
        "plt.title('Top neighbourhoods by listing')\n",
        "\n",
        "# Display barplot\n",
        "plt.show()"
      ],
      "metadata": {
        "id": "3tKECpJV3qX6"
      },
      "execution_count": null,
      "outputs": []
    },
    {
      "cell_type": "markdown",
      "source": [
        "##### 1. Why did you pick the specific chart?"
      ],
      "metadata": {
        "id": "iky9q4vBYrdO"
      }
    },
    {
      "cell_type": "markdown",
      "source": [
        "Bar charts are good for comparing values across different categories. Our purpose is to compare listing counts of different neighbourhoods. Hence we have used bar chart here."
      ],
      "metadata": {
        "id": "aJRCwT6DYrdO"
      }
    },
    {
      "cell_type": "markdown",
      "source": [
        "##### 2. What is/are the insight(s) found from the chart?"
      ],
      "metadata": {
        "id": "F6T5p64dYrdO"
      }
    },
    {
      "cell_type": "markdown",
      "source": [
        "1.   The top neighborhoods in New York City in terms of listing counts are Williamsburg, Bedford-Stuyvesant, Harlem, Bushwick, and the Upper West Side.\n",
        "2.   The top neighborhoods are primarily located in Brooklyn and Manhattan. This may be due to the fact that these boroughs have a higher overall population and a higher demand for housing."
      ],
      "metadata": {
        "id": "Xx8WAJvtYrdO"
      }
    },
    {
      "cell_type": "markdown",
      "source": [
        "#### Chart - 6 (Top hosts based on listings count using horizontal bar chart)"
      ],
      "metadata": {
        "id": "bamQiAODYuh1"
      }
    },
    {
      "cell_type": "code",
      "source": [
        "# Create a dataframe to store number of listings that first 10 hosts have\n",
        "top_hosts = airbnb_df['host_name'].value_counts()[:10].reset_index()\n",
        "top_hosts"
      ],
      "metadata": {
        "id": "TIJwrbroYuh3"
      },
      "execution_count": null,
      "outputs": []
    },
    {
      "cell_type": "code",
      "source": [
        "# Set the figure size\n",
        "plt.figure(figsize=(8, 5))\n",
        "\n",
        "# Create the horizontal barplot\n",
        "sns.barplot(data=top_hosts, y='host_name', x='count',hue='host_name', orient='h')\n",
        "\n",
        "# Add axis labels and a title\n",
        "plt.xlabel('Host Names')\n",
        "plt.ylabel('Listing Counts')\n",
        "plt.title('Top hosts on the basis of listing counts')\n",
        "\n",
        "# Display barplot\n",
        "plt.show()"
      ],
      "metadata": {
        "id": "c4X-5WZQ8VzU"
      },
      "execution_count": null,
      "outputs": []
    },
    {
      "cell_type": "markdown",
      "source": [
        "##### 1. Why did you pick the specific chart?"
      ],
      "metadata": {
        "id": "QHF8YVU7Yuh3"
      }
    },
    {
      "cell_type": "markdown",
      "source": [
        "*   We want to check distribution of listings among different hosts. Only first 10 hosts are shown in chart based on listing count.\n",
        "*   Bar chart is suitable for tasks where we need to compare values across different categories.\n"
      ],
      "metadata": {
        "id": "dcxuIMRPYuh3"
      }
    },
    {
      "cell_type": "markdown",
      "source": [
        "##### 2. What is/are the insight(s) found from the chart?"
      ],
      "metadata": {
        "id": "GwzvFGzlYuh3"
      }
    },
    {
      "cell_type": "markdown",
      "source": [
        "1.   Michael, David, John are the top hosts with 383, 368, 276 listings respectively.\n",
        "2.   There is a relatively large gap between the top two hosts and the rest of the hosts. For example, john has 276 listings, which is significantly fewer than Michael's 383 listings.\n",
        "3.   There are relatively few hosts with a large number of listings. This indicates that the Airbnb market is relatively competitive, with a small number of hosts dominating a large portion of the market.  "
      ],
      "metadata": {
        "id": "uyqkiB8YYuh3"
      }
    },
    {
      "cell_type": "markdown",
      "source": [
        "#### Chart - 7 (Number of hosts per neighbourhood group using line chart)\n"
      ],
      "metadata": {
        "id": "OH-pJp9IphqM"
      }
    },
    {
      "cell_type": "code",
      "source": [
        "# Create a dataframe to store neighbourhood groups and their corresponding total number of hosts and reset the index\n",
        "hosts_per_neighbourhood_group = airbnb_df.groupby('neighbourhood_group')['listing_id'].count().reset_index()\n",
        "hosts_per_neighbourhood_group"
      ],
      "metadata": {
        "id": "kuRf4wtuphqN"
      },
      "execution_count": null,
      "outputs": []
    },
    {
      "cell_type": "code",
      "source": [
        "# Set the figure size\n",
        "plt.figure(figsize=(8, 5))\n",
        "\n",
        "# Create the lineplot\n",
        "plt.plot('neighbourhood_group', 'listing_id', data=hosts_per_neighbourhood_group, marker='o', ms=12, mew=4, mec='r')\n",
        "\n",
        "# Add axis labels and a title\n",
        "plt.xlabel('Neighbourhood Groups')\n",
        "plt.ylabel('Host Count')\n",
        "plt.title('Hosts per Neighbourhood groups')\n",
        "\n",
        "# Display lineplot\n",
        "plt.show()"
      ],
      "metadata": {
        "id": "WtZEcSxD_zVV"
      },
      "execution_count": null,
      "outputs": []
    },
    {
      "cell_type": "markdown",
      "source": [
        "##### 1. Why did you pick the specific chart?"
      ],
      "metadata": {
        "id": "bbFf2-_FphqN"
      }
    },
    {
      "cell_type": "markdown",
      "source": [
        "Our task is to track changes in count of hosts among different neighbourhoods. For such type of problem line chart is suitable."
      ],
      "metadata": {
        "id": "loh7H2nzphqN"
      }
    },
    {
      "cell_type": "markdown",
      "source": [
        "##### 2. What is/are the insight(s) found from the chart?"
      ],
      "metadata": {
        "id": "_ouA3fa0phqN"
      }
    },
    {
      "cell_type": "markdown",
      "source": [
        "\n",
        "\n",
        "1.   Manhattan has the largest number of hosts with 19501,Brooklyn has the second largest number of hosts with 19415.\n",
        "2.   Queens have 3rd most number of hosts with more than 5000 count.\n",
        "3.   Bronx and Staten Island have very less number of hosts between 300 and 1100."
      ],
      "metadata": {
        "id": "VECbqPI7phqN"
      }
    },
    {
      "cell_type": "markdown",
      "source": [
        "#### Chart - 8 (Most reviewed room type per month in neighbourhood groups using stripplot)"
      ],
      "metadata": {
        "id": "PIIx-8_IphqN"
      }
    },
    {
      "cell_type": "code",
      "source": [
        "# Set the figure size\n",
        "plt.figure(figsize=(8, 5))\n",
        "\n",
        "# Create the stipplot\n",
        "sns.stripplot(x='room_type', y='reviews_per_month', hue='neighbourhood_group', dodge=True, data=airbnb_df, palette='Set1')\n",
        "\n",
        "# Add axis labels and a title\n",
        "plt.xlabel('Room type')\n",
        "plt.ylabel('Reviews per month')\n",
        "plt.title('Reviews per month for each room type in neighbourhood groups')\n",
        "\n",
        "# Display stripplot\n",
        "plt.show()"
      ],
      "metadata": {
        "id": "vtgbMpUjktum"
      },
      "execution_count": null,
      "outputs": []
    },
    {
      "cell_type": "markdown",
      "source": [
        "##### 1. Why did you pick the specific chart?"
      ],
      "metadata": {
        "id": "t27r6nlMphqO"
      }
    },
    {
      "cell_type": "markdown",
      "source": [
        "A strip plot is a single-axis scatter plot that is used to visualise the distribution of many individual one-dimensional values. Here we have visualized reviews per month for each room type in neighbourhood groups."
      ],
      "metadata": {
        "id": "iv6ro40sphqO"
      }
    },
    {
      "cell_type": "markdown",
      "source": [
        "##### 2. What is/are the insight(s) found from the chart?"
      ],
      "metadata": {
        "id": "r2jJGEOYphqO"
      }
    },
    {
      "cell_type": "markdown",
      "source": [
        "1.   We can see that Private room recieved the most no of reviews/month where Manhattan had the highest reviews received for Private rooms.\n",
        "2.   Manhattan & Queens got the most no of reviews for Entire home/apt room type.\n",
        "\n",
        "3.   There were less reviews recieved from shared rooms as compared to other room types and it was from Staten Island followed by Bronx."
      ],
      "metadata": {
        "id": "Po6ZPi4hphqO"
      }
    },
    {
      "cell_type": "markdown",
      "source": [
        "#### Chart - 9 (Average price in neighborhoods using scatter plot and bar chart)"
      ],
      "metadata": {
        "id": "BZR9WyysphqO"
      }
    },
    {
      "cell_type": "code",
      "source": [
        "# Create a new DataFrame that displays the average price of Airbnb rentals in each neighborhood\n",
        "neighbourhood_avg_price = airbnb_df.groupby(\"neighbourhood\").mean('price').reset_index().rename(columns={\"price\": \"avg_price\"})[['neighbourhood', 'avg_price']]\n",
        "\n",
        "# Select the top 10 neighborhoods with the lowest average prices\n",
        "neighbourhood_avg_price = neighbourhood_avg_price.sort_values(\"avg_price\").head(10)\n",
        "\n",
        "# Join the resulting DataFrame with the 'neighbourhood_group' column from the Airbnb NYC dataset, dropping any duplicate entries\n",
        "neighbourhood_avg_price_sorted_with_group = neighbourhood_avg_price.join(airbnb_df[['neighbourhood', 'neighbourhood_group']].drop_duplicates().set_index('neighbourhood'),\n",
        "                                                                         on='neighbourhood')\n",
        "\n",
        "# Display the resulting data\n",
        "neighbourhood_avg_price_sorted_with_group"
      ],
      "metadata": {
        "id": "TdPTWpAVphqO"
      },
      "execution_count": null,
      "outputs": []
    },
    {
      "cell_type": "code",
      "source": [
        "# Group the data by neighborhood and calculate the average price\n",
        "neighbourhood_avg_price = airbnb_df.groupby(\"neighbourhood\")[\"price\"].mean()\n",
        "\n",
        "# Create a new DataFrame with the average price for each neighborhood\n",
        "neighbourhood_prices = pd.DataFrame({\"neighbourhood\": neighbourhood_avg_price.index, \"avg_price\": neighbourhood_avg_price.values})\n",
        "\n",
        "# Merge the average price data with the original DataFrame#trying to find where the coordinates belong from the latitude and longitude\n",
        "df = airbnb_df.merge(neighbourhood_prices, on=\"neighbourhood\")\n",
        "\n",
        "# Create the scattermapbox plot\n",
        "fig = df.plot.scatter(x=\"longitude\", y=\"latitude\", c=\"avg_price\", title=\"Average Airbnb Price by Neighborhoods in New York City\", figsize=(8,5), cmap=\"plasma\")\n",
        "fig"
      ],
      "metadata": {
        "id": "rTBhm45QtLMy"
      },
      "execution_count": null,
      "outputs": []
    },
    {
      "cell_type": "code",
      "source": [
        "# Extract the values from the dataset\n",
        "neighborhoods = neighbourhood_avg_price_sorted_with_group['neighbourhood']\n",
        "prices = neighbourhood_avg_price_sorted_with_group['avg_price']\n",
        "\n",
        "# Set the figure size\n",
        "plt.figure(figsize=(18, 5))\n",
        "\n",
        "# Create the barplot\n",
        "plt.bar(neighborhoods, prices, width=0.5, color = 'green')\n",
        "\n",
        "# Add axis labels and a title\n",
        "plt.xlabel('Neighborhood')\n",
        "plt.ylabel('Average Price')\n",
        "plt.title('Average Price by Neighborhood')\n",
        "\n",
        "# Display barplot\n",
        "plt.show()"
      ],
      "metadata": {
        "id": "m5nm80Rdthq_"
      },
      "execution_count": null,
      "outputs": []
    },
    {
      "cell_type": "markdown",
      "source": [
        "##### 1. Why did you pick the specific chart?"
      ],
      "metadata": {
        "id": "jj7wYXLtphqO"
      }
    },
    {
      "cell_type": "markdown",
      "source": [
        "By using scatter plot we can make use of latitude and longitude to display averge prices of neighbourhoods over geogrophical region of New York."
      ],
      "metadata": {
        "id": "Ob8u6rCTphqO"
      }
    },
    {
      "cell_type": "markdown",
      "source": [
        "##### 2. What is/are the insight(s) found from the chart?"
      ],
      "metadata": {
        "id": "eZrbJ2SmphqO"
      }
    },
    {
      "cell_type": "markdown",
      "source": [
        "\n",
        "\n",
        "1.   Average price in manhattan is high as compared to other bouroughs.\n",
        "2.   Queens, Bronx and Staten Island tend to have a lower overall cost of living compared to Manhattan and Brooklyn.\n",
        "3.   These neighborhoods may be attractive to renters or buyers looking for more affordable housing options in the New York City area."
      ],
      "metadata": {
        "id": "mZtgC_hjphqO"
      }
    },
    {
      "cell_type": "markdown",
      "source": [
        "#### Chart - 10 (Total counts of each room type using pie chart)"
      ],
      "metadata": {
        "id": "YJ55k-q6phqO"
      }
    },
    {
      "cell_type": "code",
      "source": [
        "# Create a new dataframe which consists of room type and corresponding count\n",
        "room_df = airbnb_df['room_type'].value_counts().reset_index()\n",
        "room_df"
      ],
      "metadata": {
        "id": "B2aS4O1ophqO"
      },
      "execution_count": null,
      "outputs": []
    },
    {
      "cell_type": "code",
      "source": [
        "# Set the figure size\n",
        "plt.figure(figsize=(8, 5))\n",
        "\n",
        "# Create the pie chart\n",
        "palette_color = sns.color_palette('bright')\n",
        "plt.pie(room_df['count'], labels=room_df['room_type'], colors=palette_color, autopct='%1.1f%%')\n",
        "\n",
        "# Add a title\n",
        "plt.title(\"Percentage share of each room type\", fontsize='15')\n",
        "\n",
        "# Display pie chart\n",
        "plt.show()"
      ],
      "metadata": {
        "id": "Beg8OgRaNlO4"
      },
      "execution_count": null,
      "outputs": []
    },
    {
      "cell_type": "markdown",
      "source": [
        "##### 1. Why did you pick the specific chart?"
      ],
      "metadata": {
        "id": "gCFgpxoyphqP"
      }
    },
    {
      "cell_type": "markdown",
      "source": [
        "Here we have only 3 quantities namely Entire home, Private room, Shared room to display. Hence we have used a pie chart to display their proportions."
      ],
      "metadata": {
        "id": "TVxDimi2phqP"
      }
    },
    {
      "cell_type": "markdown",
      "source": [
        "##### 2. What is/are the insight(s) found from the chart?"
      ],
      "metadata": {
        "id": "OVtJsKN_phqQ"
      }
    },
    {
      "cell_type": "markdown",
      "source": [
        "\n",
        "\n",
        "1.   The majority of listings on Airbnb are for entire homes or apartments, with 22784 listings, followed by private rooms with 21996 listings, and shared rooms with 1138 listings.\n",
        "2.   Shared room listings are very less comprising only 2.5% of the total share.\n",
        "3.   There is a significant difference in the number of listings for each room type. For example, there are almost 20 times as many listings for entire homes or apartments as there are for shared rooms."
      ],
      "metadata": {
        "id": "ngGi97qjphqQ"
      }
    },
    {
      "cell_type": "markdown",
      "source": [
        "##### 3. Will the gained insights help creating a positive business impact?\n",
        "Are there any insights that lead to negative growth? Justify with specific reason."
      ],
      "metadata": {
        "id": "lssrdh5qphqQ"
      }
    },
    {
      "cell_type": "markdown",
      "source": [
        "There is no negative impact as such because the data suggests that travelers using Airbnb have a wide range of accommodation options to choose from, including private rooms and entire homes or apartments."
      ],
      "metadata": {
        "id": "tBpY5ekJphqQ"
      }
    },
    {
      "cell_type": "markdown",
      "source": [
        "#### Chart - 11 (Average price of each room type using line chart)"
      ],
      "metadata": {
        "id": "miaWeTTvc1zq"
      }
    },
    {
      "cell_type": "code",
      "source": [
        "# Create a new dataframe which consists of room type and corresponding average price\n",
        "room = airbnb_df.groupby('room_type').mean('price').reset_index()\n",
        "room"
      ],
      "metadata": {
        "id": "PINmc4Thc1z8"
      },
      "execution_count": null,
      "outputs": []
    },
    {
      "cell_type": "code",
      "source": [
        "# Set the figure size\n",
        "plt.figure(figsize=(8, 5))\n",
        "\n",
        "# Create the pie chart\n",
        "palette_color = sns.color_palette('bright')\n",
        "sns.lineplot(data= room, x='room_type', y='price')\n",
        "\n",
        "# Add axis labels and a title\n",
        "plt.xlabel('Room type')\n",
        "plt.ylabel('Average price')\n",
        "plt.title('Average Prices of each room type')\n",
        "\n",
        "# Display line chart\n",
        "plt.show()"
      ],
      "metadata": {
        "id": "DJq6VMV5c1z9"
      },
      "execution_count": null,
      "outputs": []
    },
    {
      "cell_type": "markdown",
      "source": [
        "##### 1. Why did you pick the specific chart?"
      ],
      "metadata": {
        "id": "sQIBQskHc1z-"
      }
    },
    {
      "cell_type": "markdown",
      "source": [
        "Line chart are used to show trends and patterns in numerical data. Here we want to show how average price changes among different types of rooms."
      ],
      "metadata": {
        "id": "X4GSpceVc1z-"
      }
    },
    {
      "cell_type": "markdown",
      "source": [
        "##### 2. What is/are the insight(s) found from the chart?"
      ],
      "metadata": {
        "id": "JfI8D9dBc1z-"
      }
    },
    {
      "cell_type": "markdown",
      "source": [
        "\n",
        "\n",
        "1.   Entire home have high average price of 160 dollars.\n",
        "2.   Private room and shared room have average prices 80 dollars and 60 dollars respectively."
      ],
      "metadata": {
        "id": "YQ5si6juc1z_"
      }
    },
    {
      "cell_type": "markdown",
      "source": [
        "#### Chart - 12 (Total reviews by each neighborhood group using pie chart)"
      ],
      "metadata": {
        "id": "U2RJ9gkRphqQ"
      }
    },
    {
      "cell_type": "code",
      "source": [
        "# Group the data by neighborhood group and calculate the total number of reviews\n",
        "reviews_by_neighbourhood_group = airbnb_df.groupby(\"neighbourhood_group\")[\"total_reviews\"].sum()\n",
        "\n",
        "# Set the figure size\n",
        "plt.figure(figsize=(8, 5))\n",
        "\n",
        "# Create pie chart\n",
        "plt.pie(reviews_by_neighbourhood_group, labels=reviews_by_neighbourhood_group.index, autopct='%1.1f%%')\n",
        "\n",
        "# Add a title\n",
        "plt.title(\"Number of Reviews by Neighborhood Group in New York City\", fontsize='15')\n",
        "\n",
        "# Display pie chart\n",
        "plt.show()"
      ],
      "metadata": {
        "id": "GM7a4YP4phqQ"
      },
      "execution_count": null,
      "outputs": []
    },
    {
      "cell_type": "markdown",
      "source": [
        "##### 1. Why did you pick the specific chart?"
      ],
      "metadata": {
        "id": "1M8mcRywphqQ"
      }
    },
    {
      "cell_type": "markdown",
      "source": [
        "For visualizing how different neighbourhood groups contributes to the whole in terms of reviews, pie chart is best option."
      ],
      "metadata": {
        "id": "8agQvks0phqQ"
      }
    },
    {
      "cell_type": "markdown",
      "source": [
        "##### 2. What is/are the insight(s) found from the chart?"
      ],
      "metadata": {
        "id": "tgIPom80phqQ"
      }
    },
    {
      "cell_type": "markdown",
      "source": [
        "\n",
        "\n",
        "1.   Brooklyn has the largest share of total reviews on Airbnb, with 43.3%, followed by Manhattan with 38.9%.\n",
        "2.   Queens has the third largest share of total reviews, with 14.2%, followed by the Bronx with 2.6% and Staten Island with 1.0%.\n",
        "3.   Despite having fewer listings, Brooklyn has more reviews on Airbnb compared to Manhattan.This indicates that Airbnb users in Brooklyn are more likely to leave reviews, or the listings in Brooklyn are more popular or successful in generating positive reviews."
      ],
      "metadata": {
        "id": "Qp13pnNzphqQ"
      }
    },
    {
      "cell_type": "markdown",
      "source": [
        "##### 3. Will the gained insights help creating a positive business impact?\n",
        "Are there any insights that lead to negative growth? Justify with specific reason."
      ],
      "metadata": {
        "id": "JMzcOPDDphqR"
      }
    },
    {
      "cell_type": "markdown",
      "source": [
        "The data suggests that Airbnb is more popular in Brooklyn and Manhattan compared to the other neighborhood groups. So Airbnb can focus more on other neighbourhood groups to grow its business."
      ],
      "metadata": {
        "id": "R4Ka1PC2phqR"
      }
    },
    {
      "cell_type": "markdown",
      "source": [
        "#### Chart - 13 (Count of each room types in entire NYC using multiple bar plot)"
      ],
      "metadata": {
        "id": "0XTbbEQc1fdU"
      }
    },
    {
      "cell_type": "code",
      "source": [
        "# Set the size of the plot\n",
        "plt.rcParams['figure.figsize'] = (8, 5)\n",
        "\n",
        "# Create a countplot using seaborn\n",
        "ax = sns.countplot(y='room_type', hue='neighbourhood_group', data=airbnb_df, palette='bright')\n",
        "\n",
        "# Calculate the total number of room_type values\n",
        "total = len(airbnb_df['room_type'])\n",
        "\n",
        "# Add percentage labels to each bar in the plot\n",
        "for p in ax.patches:\n",
        "        percentage = '{:.1f}%'.format(100 * p.get_width()/total)\n",
        "        x = p.get_x() + p.get_width() + 0.02\n",
        "        y = p.get_y() + p.get_height()/2\n",
        "        ax.annotate(percentage, (x, y))\n",
        "\n",
        "# Add a title to the plot\n",
        "plt.title('count of each room types in entire NYC', fontsize='15')\n",
        "\n",
        "# Add a labels to the x-axis and y-axis\n",
        "plt.xlabel('Room counts', fontsize='14')\n",
        "plt.ylabel('Rooms', fontsize='14')\n",
        "\n",
        "# Rotate the x-tick labels\n",
        "plt.xticks(rotation=90)\n",
        "\n",
        "# Display multiple bar plot\n",
        "plt.show()"
      ],
      "metadata": {
        "id": "KY9mqJtB1fdb"
      },
      "execution_count": null,
      "outputs": []
    },
    {
      "cell_type": "markdown",
      "source": [
        "##### 1. Why did you pick the specific chart?"
      ],
      "metadata": {
        "id": "5-VKDNHm1fdb"
      }
    },
    {
      "cell_type": "markdown",
      "source": [
        "*   A multiple bar graph is a type of compound bar graph, in which more than two bars are drawn for each observation. This means that there are more than two parameters for each observation.\n",
        "*   Here we want to show the percentage of each room type in all five neighbourhood groups."
      ],
      "metadata": {
        "id": "aPHW8Jor1fdb"
      }
    },
    {
      "cell_type": "markdown",
      "source": [
        "##### 2. What is/are the insight(s) found from the chart?"
      ],
      "metadata": {
        "id": "IXGx87Qo1fdb"
      }
    },
    {
      "cell_type": "markdown",
      "source": [
        "\n",
        "\n",
        "1.   Manhattan has more listed properties with Entire home/apt around 24.6% of total listed properties followed by Brooklyn with around 19.5%.\n",
        "2.   Private rooms are more in Brooklyn as in 21.9% of the total listed properties followed by Manhattan with 16.9% of them. While 7.3% of private rooms are from Queens.\n",
        "3.   Very few of the total listed have shared rooms listed on Airbnb where there's negligible or almost very rare shared rooms in Staten Island and Bronx.\n",
        "4.   We can infer that Brooklyn,Queens,Bronx has more private room types while Manhattan which has the highest no of listings in entire NYC has more Entire home/apt room types."
      ],
      "metadata": {
        "id": "PJQ_hUrx1fdb"
      }
    },
    {
      "cell_type": "markdown",
      "source": [
        "#### Chart - 14 (Use latitude and longitude in scatterplot map and find neighbourhood_groups and room types in map)"
      ],
      "metadata": {
        "id": "x-EpHcCOp1ci"
      }
    },
    {
      "cell_type": "code",
      "source": [
        "# Set the figure size\n",
        "sns.set(rc={\"figure.figsize\": (8, 5)})\n",
        "\n",
        "# Create a scatter plot that displays the longitude and latitude of the listings in the Airbnb NYC dataset\n",
        "ax = sns.scatterplot(data=airbnb_df, x=\"longitude\", y=\"latitude\", hue='neighbourhood_group', palette='bright')\n",
        "\n",
        "# Set the title of the plot\n",
        "ax.set_title('Location Co-ordinates', fontsize='15')"
      ],
      "metadata": {
        "id": "mAQTIvtqp1cj"
      },
      "execution_count": null,
      "outputs": []
    },
    {
      "cell_type": "code",
      "source": [
        "# Let's observe the type of room_types\n",
        "\n",
        "# Set the default figure size for the seaborn library\n",
        "sns.set(rc={\"figure.figsize\": (8, 5)})\n",
        "\n",
        "# Create a scatter plot that displays the longitude and latitude of the listings in the Airbnb NYC dataset with room_types.\n",
        "ax = sns.scatterplot(x=airbnb_df.longitude, y=airbnb_df.latitude, hue=airbnb_df.room_type, palette='muted')\n",
        "\n",
        "# Set the title of the plot\n",
        "ax.set_title('Distribution of type of rooms across NYC', fontsize='15')\n"
      ],
      "metadata": {
        "id": "K5Nvj9PEU8da"
      },
      "execution_count": null,
      "outputs": []
    },
    {
      "cell_type": "markdown",
      "source": [
        "##### 1. Why did you pick the specific chart?"
      ],
      "metadata": {
        "id": "X_VqEhTip1ck"
      }
    },
    {
      "cell_type": "markdown",
      "source": [
        "By using scatter plot we can make use of latitude and longitude to display neighbourhood groups as well as room types over geogrophical region of New York."
      ],
      "metadata": {
        "id": "-vsMzt_np1ck"
      }
    },
    {
      "cell_type": "markdown",
      "source": [
        "##### 2. What is/are the insight(s) found from the chart?"
      ],
      "metadata": {
        "id": "8zGJKyg5p1ck"
      }
    },
    {
      "cell_type": "markdown",
      "source": [
        "Geographical representation of new york city helps guests to easily check which types of rooms are there across different neighbourhoods."
      ],
      "metadata": {
        "id": "ZYdMsrqVp1ck"
      }
    },
    {
      "cell_type": "markdown",
      "source": [
        "#### Chart - 15 (Stay requirement counts by minimum nights using bar chart)"
      ],
      "metadata": {
        "id": "n3dbpmDWp1ck"
      }
    },
    {
      "cell_type": "code",
      "source": [
        "# Group the DataFrame by the minimum_nights column and count the number of rows in each group\n",
        "min_nights_count = airbnb_df.groupby('minimum_nights').size().reset_index(name = 'count')\n",
        "\n",
        "# Sort the resulting DataFrame in descending order by the count column\n",
        "min_nights_count = min_nights_count.sort_values('count', ascending=False)\n",
        "\n",
        "# Select the top 10 rows\n",
        "min_nights_count = min_nights_count.head(15)\n",
        "\n",
        "# Reset the index\n",
        "min_nights_count = min_nights_count.reset_index(drop=True)\n",
        "\n",
        "# Display the resulting DataFrame\n",
        "min_nights_count"
      ],
      "metadata": {
        "id": "bwevp1tKp1ck"
      },
      "execution_count": null,
      "outputs": []
    },
    {
      "cell_type": "code",
      "source": [
        "# Extract the minimum_nights and count columns from the DataFrame\n",
        "minimum_nights = min_nights_count['minimum_nights']\n",
        "count = min_nights_count['count']\n",
        "\n",
        "# Set the figure size\n",
        "plt.figure(figsize=(8, 5))\n",
        "\n",
        "# Create the bar plot\n",
        "plt.bar(minimum_nights, count)\n",
        "\n",
        "# Add axis labels and a title\n",
        "plt.xlabel('Minimum Nights', fontsize='14')\n",
        "plt.ylabel('Count', fontsize='14')\n",
        "plt.title('Stay Requirement by Minimum Nights', fontsize='15')\n",
        "\n",
        "# Display barplot\n",
        "plt.show()"
      ],
      "metadata": {
        "id": "5pLrRm54XeU6"
      },
      "execution_count": null,
      "outputs": []
    },
    {
      "cell_type": "markdown",
      "source": [
        "##### 1. Why did you pick the specific chart?"
      ],
      "metadata": {
        "id": "ylSl6qgtp1ck"
      }
    },
    {
      "cell_type": "markdown",
      "source": [
        "We want to compare minimum nights count. For comparing values across different categories bar chart is a good option."
      ],
      "metadata": {
        "id": "m2xqNkiQp1ck"
      }
    },
    {
      "cell_type": "markdown",
      "source": [
        "##### 2. What is/are the insight(s) found from the chart?"
      ],
      "metadata": {
        "id": "ZWILFDl5p1ck"
      }
    },
    {
      "cell_type": "markdown",
      "source": [
        "1.  The majority of listings on Airbnb have a minimum stay requirement of 1 or 2 nights, with 12067 and 11080 listings, respectively.\n",
        "\n",
        "2.  The number of listings with a minimum stay requirement decreases as the length of stay increases, with 7375 listings requiring a minimum stay of 3 nights, and so on.\n",
        "\n",
        "3.  There are relatively few listings with a minimum stay requirement of 30 nights or more, with 3489 and 189 listings, respectively."
      ],
      "metadata": {
        "id": "x-lUsV2mp1ck"
      }
    },
    {
      "cell_type": "markdown",
      "source": [
        "##### 3. Will the gained insights help creating a positive business impact?\n",
        "Are there any insights that lead to negative growth? Justify with specific reason."
      ],
      "metadata": {
        "id": "M7G43BXep1ck"
      }
    },
    {
      "cell_type": "markdown",
      "source": [
        "Stay requirement of lisiting should be as low as possible to attract more travellers and increse business."
      ],
      "metadata": {
        "id": "5wwDJXsLp1cl"
      }
    },
    {
      "cell_type": "markdown",
      "source": [
        "#### Chart - 16 (Stay requirement vs average price using line plot)"
      ],
      "metadata": {
        "id": "pmeMUq9XYnk6"
      }
    },
    {
      "cell_type": "code",
      "source": [
        "# Group the DataFrame by the minimum_nights column and get average price for corresponding mininum night requirement\n",
        "min_nights_price = airbnb_df.groupby('minimum_nights').mean('price').reset_index()\n",
        "\n",
        "# Select the top 10 rows\n",
        "min_nights_price = min_nights_price.head(15)\n",
        "\n",
        "# Reset the index\n",
        "min_nights_price = min_nights_price.reset_index(drop=True)\n",
        "\n",
        "# Display the resulting DataFrame\n",
        "min_nights_price"
      ],
      "metadata": {
        "id": "re9IIj0HYnlg"
      },
      "execution_count": null,
      "outputs": []
    },
    {
      "cell_type": "code",
      "source": [
        "# Extract the minimum_nights and count columns from the DataFrame\n",
        "minimum_nights = min_nights_price['minimum_nights']\n",
        "price = min_nights_price['price']\n",
        "\n",
        "# Set the figure size\n",
        "plt.figure(figsize=(8, 5))\n",
        "\n",
        "# Create the bar plot\n",
        "sns.lineplot(x=minimum_nights, y= price)\n",
        "\n",
        "# Add axis labels and a title\n",
        "plt.xlabel('Minimum Nights', fontsize='14')\n",
        "plt.ylabel('Average price', fontsize='14')\n",
        "plt.title('Average prices of minimum night requirements', fontsize='15')\n",
        "\n",
        "# Display barplot\n",
        "plt.show()"
      ],
      "metadata": {
        "id": "eKZFjttlYnlh"
      },
      "execution_count": null,
      "outputs": []
    },
    {
      "cell_type": "markdown",
      "source": [
        "##### 1. Why did you pick the specific chart?"
      ],
      "metadata": {
        "id": "9uG4d_LPYnlh"
      }
    },
    {
      "cell_type": "markdown",
      "source": [
        "Line chart are used to show trends and patterns in numerical data. Here we want to show how average price changes when minium night requirement increases."
      ],
      "metadata": {
        "id": "vDX01hgIYnlh"
      }
    },
    {
      "cell_type": "markdown",
      "source": [
        "##### 2. What is/are the insight(s) found from the chart?"
      ],
      "metadata": {
        "id": "d_NTbgv4Ynli"
      }
    },
    {
      "cell_type": "markdown",
      "source": [
        "\n",
        "\n",
        "*   Price of listing per night increases as minimum night requirement increases from 1 night to 4 nights and price decreases further as minimun night requirement increases."
      ],
      "metadata": {
        "id": "lUGvakKQYnli"
      }
    },
    {
      "cell_type": "markdown",
      "source": [
        "#### Chart - 17 - Correlation Heatmap"
      ],
      "metadata": {
        "id": "NC_X3p0fY2L0"
      }
    },
    {
      "cell_type": "code",
      "source": [
        "# Correlation Heatmap visualization code\n",
        "\n",
        "# Dropping columns which doesn't have data type float for performing correlation operation\n",
        "airbnb_for_corr = airbnb_df.drop(['listing_name', 'host_name', 'neighbourhood_group','neighbourhood', 'room_type'], axis=1)\n",
        "\n",
        "# Calculate pairwise correlations between columns\n",
        "corr = airbnb_for_corr.corr()\n",
        "\n",
        "# Display the correlation between columns\n",
        "corr"
      ],
      "metadata": {
        "id": "xyC9zolEZNRQ"
      },
      "execution_count": null,
      "outputs": []
    },
    {
      "cell_type": "code",
      "source": [
        "# Set the figure size\n",
        "plt.figure(figsize=(12,6))\n",
        "\n",
        "# Visualize correlations as a heatmap\n",
        "sns.heatmap(corr, cmap='BrBG',annot=True)\n",
        "\n",
        "# Display heatmap\n",
        "plt.show()"
      ],
      "metadata": {
        "id": "lA720QnXYsEO"
      },
      "execution_count": null,
      "outputs": []
    },
    {
      "cell_type": "markdown",
      "source": [
        "##### 1. Why did you pick the specific chart?"
      ],
      "metadata": {
        "id": "UV0SzAkaZNRQ"
      }
    },
    {
      "cell_type": "markdown",
      "source": [
        "Heatmap shows relationship between many pairs of numeric variables."
      ],
      "metadata": {
        "id": "DVPuT8LYZNRQ"
      }
    },
    {
      "cell_type": "markdown",
      "source": [
        "##### 2. What is/are the insight(s) found from the chart?"
      ],
      "metadata": {
        "id": "YPEH6qLeZNRQ"
      }
    },
    {
      "cell_type": "markdown",
      "source": [
        "1.   Correlation between most of the pairs of variables is negative.\n",
        "2.   Heatmap shows there is strong positive correalation between number_of_reviews and reviews_per_month, which suggests that listings with more total reviews tend to have more reviews per month.\n",
        "3.   There is a moderate positive correlation (0.23) between the host_listings_count column and the availability_365 column, which suggests that hosts with more listings tend to have more days of availability in the next 365 days."
      ],
      "metadata": {
        "id": "bfSqtnDqZNRR"
      }
    },
    {
      "cell_type": "markdown",
      "source": [
        "#### Chart - 18 - Pair Plot"
      ],
      "metadata": {
        "id": "q29F0dvdveiT"
      }
    },
    {
      "cell_type": "code",
      "source": [
        "# Pair Plot visualization code\n",
        "# create a pairplot using the seaborn library to visualize the relationships between different variables in the Airbnb NYC dataset\n",
        "sns.pairplot(airbnb_df)\n",
        "\n",
        "# Display pair plot\n",
        "plt.show()"
      ],
      "metadata": {
        "id": "o58-TEIhveiU"
      },
      "execution_count": null,
      "outputs": []
    },
    {
      "cell_type": "markdown",
      "source": [
        "##### 1. Why did you pick the specific chart?"
      ],
      "metadata": {
        "id": "EXh0U9oCveiU"
      }
    },
    {
      "cell_type": "markdown",
      "source": [
        "A pair plot consists of multiple scatterplots arranged in a grid, with each scatterplot showing the relationship between two variables."
      ],
      "metadata": {
        "id": "eMmPjTByveiU"
      }
    },
    {
      "cell_type": "markdown",
      "source": [
        "## **5. Solution to Business Objective**"
      ],
      "metadata": {
        "id": "JcMwzZxoAimU"
      }
    },
    {
      "cell_type": "markdown",
      "source": [
        "#### What do you suggest the client to achieve Business Objective ?\n",
        "Explain Briefly."
      ],
      "metadata": {
        "id": "8G2x9gOozGDZ"
      }
    },
    {
      "cell_type": "markdown",
      "source": [
        "\n",
        "\n",
        "*   Listings in Manhattan have high prices (around 150 dollars) compared to other boroughs of NYC.\n",
        "\n",
        "*   Manhattan is world-famous for its parks, museums, buildings, town, liberty, gardens, markets, island and also its substantial number of tourists throughout the year. So it makes sense that demand and price are both high in Manhattan.\n",
        "\n",
        "*   The majority of listings on Airbnb are for entire homes or apartments and also Private Rooms with relatively fewer listings for shared rooms.\n",
        "\n",
        "*   Listings with room type entire home have high price (around 160 dollars) as compared to private room (around 80 dollars) and shared room (around 60 dollars).\n",
        "\n",
        "*   Price of listing per night increases as minimum night requirement increases from 1 night to 4 nights and price decreases further as minimun night requirement increases.\n",
        "\n",
        "*   In simple terms, Guests are charged more for shorter stays and less for longer stays. (per night)\n",
        "\n",
        "*   The data indicates that there is a high level of competition among Airbnb hosts, with a small number of hosts dominating a large portion of the market. So host can consider investing in property in areas with relatively fewer listings in order to differentiate themselves from the competition.\n",
        "\n"
      ],
      "metadata": {
        "id": "yn4k8Sj8PkDT"
      }
    },
    {
      "cell_type": "markdown",
      "source": [
        "# **Conclusion**"
      ],
      "metadata": {
        "id": "gCX9965dhzqZ"
      }
    },
    {
      "cell_type": "markdown",
      "source": [
        "\n",
        "\n",
        "*   In this project, we had to find insights and patterns using different types of graphs from airbnb dataset to make data driven decisions.\n",
        "*   The dataset contained about 49000 records, and 16 attributes.\n",
        "*   We began by importing necessary libraries like pandas, numpy, matplotlib, seaborn, etc.\n",
        "*   Then we dealt with the dataset's missing values using constant value imputation technique.\n",
        "*   We dropped duplicate rows and also dropped columns which are not required for analysis.\n",
        "*   We removed outliers from the price column using interquartile range method.\n",
        "*   Once our dataset became ready, we created various charts for data analysis.\n",
        "*   It was found that Manhattan and Brooklyn have high demand for airbnb rentals and largest number of listings.\n",
        "*   Manhattan and Brooklyn also have highest number of hosts, indicating high level of competition in these bouroughs.\n",
        "*   Some hosts have higher number of listings which goes around 200 to 300 while other hosts have relatively fewer listings. Hence, Small number of hosts dominates the larger portion of the market."
      ],
      "metadata": {
        "id": "Fjb1IsQkh3yE"
      }
    },
    {
      "cell_type": "markdown",
      "source": [
        "# **Thank you**"
      ],
      "metadata": {
        "id": "gIfDvo9L0UH2"
      }
    }
  ]
}