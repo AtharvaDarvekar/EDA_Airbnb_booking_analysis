{
  "nbformat": 4,
  "nbformat_minor": 0,
  "metadata": {
    "colab": {
      "private_outputs": true,
      "provenance": [],
      "collapsed_sections": [
        "vncDsAP0Gaoa",
        "FJNUwmbgGyua",
        "w6K7xa23Elo4",
        "yQaldy8SH6Dl",
        "PH-0ReGfmX4f",
        "mDgbUHAGgjLW",
        "0wOQAZs5pc--",
        "K5QZ13OEpz2H",
        "lQ7QKXXCp7Bj",
        "448CDAPjqfQr",
        "KSlN3yHqYklG",
        "t6dVpIINYklI",
        "ijmpgYnKYklI",
        "-JiQyfWJYklI",
        "EM7whBJCYoAo",
        "fge-S5ZAYoAp",
        "85gYPyotYoAp",
        "RoGjAbkUYoAp",
        "4Of9eVA-YrdM",
        "iky9q4vBYrdO",
        "F6T5p64dYrdO",
        "y-Ehk30pYrdP",
        "bamQiAODYuh1",
        "QHF8YVU7Yuh3",
        "GwzvFGzlYuh3",
        "qYpmQ266Yuh3",
        "OH-pJp9IphqM",
        "bbFf2-_FphqN",
        "_ouA3fa0phqN",
        "Seke61FWphqN",
        "PIIx-8_IphqN",
        "t27r6nlMphqO",
        "r2jJGEOYphqO",
        "b0JNsNcRphqO",
        "BZR9WyysphqO",
        "jj7wYXLtphqO",
        "eZrbJ2SmphqO",
        "rFu4xreNphqO",
        "YJ55k-q6phqO",
        "gCFgpxoyphqP",
        "OVtJsKN_phqQ",
        "lssrdh5qphqQ",
        "U2RJ9gkRphqQ",
        "1M8mcRywphqQ",
        "tgIPom80phqQ",
        "JMzcOPDDphqR",
        "x-EpHcCOp1ci",
        "X_VqEhTip1ck",
        "8zGJKyg5p1ck",
        "PVzmfK_Ep1ck",
        "n3dbpmDWp1ck",
        "ylSl6qgtp1ck",
        "ZWILFDl5p1ck",
        "M7G43BXep1ck",
        "Ag9LCva-p1cl",
        "E6MkPsBcp1cl",
        "2cELzS2fp1cl",
        "3MPXvC8up1cl",
        "NC_X3p0fY2L0",
        "UV0SzAkaZNRQ",
        "YPEH6qLeZNRQ",
        "q29F0dvdveiT",
        "EXh0U9oCveiU",
        "22aHeOlLveiV",
        "JcMwzZxoAimU",
        "8G2x9gOozGDZ",
        "gCX9965dhzqZ",
        "gIfDvo9L0UH2"
      ],
      "include_colab_link": true
    },
    "kernelspec": {
      "name": "python3",
      "display_name": "Python 3"
    },
    "language_info": {
      "name": "python"
    }
  },
  "cells": [
    {
      "cell_type": "markdown",
      "metadata": {
        "id": "view-in-github",
        "colab_type": "text"
      },
      "source": [
        "<a href=\"https://colab.research.google.com/github/AtharvaDarvekar/EDA_Airbnb_booking_analysis/blob/main/EDA_Project_Final.ipynb\" target=\"_parent\"><img src=\"https://colab.research.google.com/assets/colab-badge.svg\" alt=\"Open In Colab\"/></a>"
      ]
    },
    {
      "cell_type": "markdown",
      "source": [
        "# **Project Name**    -\n",
        "\n"
      ],
      "metadata": {
        "id": "vncDsAP0Gaoa"
      }
    },
    {
      "cell_type": "markdown",
      "source": [
        "##### **Project Type**    - EDA\n",
        "##### **Contribution**    - Individual\n",
        "##### **Team Member  -** Atharva Darvekar\n"
      ],
      "metadata": {
        "id": "beRrZCGUAJYm"
      }
    },
    {
      "cell_type": "markdown",
      "source": [
        "# **Project Summary -**"
      ],
      "metadata": {
        "id": "FJNUwmbgGyua"
      }
    },
    {
      "cell_type": "markdown",
      "source": [
        "We start with loading the Airbnb dataset by using pandas library.\n",
        "\n",
        "\n",
        "*   Data Cleaning - This involved removing duplicate rows, handling missing values and null values.These values were replaced with mean or appropriate value.Non-required columns were dropped.\n",
        "\n",
        "\n",
        "*   Analyzing the data - This involved understanding variables that affects prices of listings in New York City.\n",
        "\n",
        "*   Data visualization - In this stage, different graphs were selected based on categorical or numerical variable for visualization.These visualizations were used to find patterns or insights from data and made business decisions accordingly.\n",
        "\n",
        "\n",
        "\n"
      ],
      "metadata": {
        "id": "F6v_1wHtG2nS"
      }
    },
    {
      "cell_type": "markdown",
      "source": [
        "# **GitHub Link -**"
      ],
      "metadata": {
        "id": "w6K7xa23Elo4"
      }
    },
    {
      "cell_type": "markdown",
      "source": [
        "https://github.com/AtharvaDarvekar/EDA_Airbnb_booking_analysis"
      ],
      "metadata": {
        "id": "h1o69JH3Eqqn"
      }
    },
    {
      "cell_type": "markdown",
      "source": [
        "# **Problem Statement**\n"
      ],
      "metadata": {
        "id": "yQaldy8SH6Dl"
      }
    },
    {
      "cell_type": "markdown",
      "source": [
        "\n",
        "\n",
        "1.   How listing prices are distributed?\n",
        "2.   What are the counts of listings across different neighbourhoods?\n",
        "3.   What is average price in each neighbourhood?\n",
        "4.   Display top neighbourhoods by listing count.\n",
        "5.   Show top hosts based on more listings using bar chart.\n",
        "6.   How many hosts are there in each neighbourhood group?\n",
        "7.   Find top neighbourhood groups based on reviews per month.\n",
        "8.   Show average prices of different neighbourhoods in geographical map.\n",
        "9.   What are the total Counts Of Each Room Type?\n",
        "10.   How much reviews each neighbourhood got?\n",
        "11.   How different types of rooms are distributed across NYC?\n",
        "12.   What are minimum stay requirements of listings?\n",
        "\n",
        "\n",
        "\n"
      ],
      "metadata": {
        "id": "DpeJGUA3kjGy"
      }
    },
    {
      "cell_type": "markdown",
      "source": [
        "#### **Define Your Business Objective?**"
      ],
      "metadata": {
        "id": "PH-0ReGfmX4f"
      }
    },
    {
      "cell_type": "markdown",
      "source": [
        "\n",
        "\n",
        "1.   The observations and insights we identified through this process will be useful for future analysis and decision-making related to Airbnb.\n",
        "2.   To provide useful information for travelers and hosts in the city.\n",
        "\n"
      ],
      "metadata": {
        "id": "PhDvGCAqmjP1"
      }
    },
    {
      "cell_type": "markdown",
      "source": [
        "# **General Guidelines** : -  "
      ],
      "metadata": {
        "id": "mDgbUHAGgjLW"
      }
    },
    {
      "cell_type": "markdown",
      "source": [
        "1.   Well-structured, formatted, and commented code is required.\n",
        "2.   Exception Handling, Production Grade Code & Deployment Ready Code will be a plus. Those students will be awarded some additional credits.\n",
        "     \n",
        "     The additional credits will have advantages over other students during Star Student selection.\n",
        "       \n",
        "             [ Note: - Deployment Ready Code is defined as, the whole .ipynb notebook should be executable in one go\n",
        "                       without a single error logged. ]\n",
        "\n",
        "3.   Each and every logic should have proper comments.\n",
        "4. You may add as many number of charts you want. Make Sure for each and every chart the following format should be answered.\n",
        "        \n",
        "\n",
        "```\n",
        "# Chart visualization code\n",
        "```\n",
        "            \n",
        "\n",
        "*   Why did you pick the specific chart?\n",
        "*   What is/are the insight(s) found from the chart?\n",
        "* Will the gained insights help creating a positive business impact?\n",
        "Are there any insights that lead to negative growth? Justify with specific reason.\n",
        "\n",
        "5. You have to create at least 20 logical & meaningful charts having important insights.\n",
        "\n",
        "\n",
        "[ Hints : - Do the Vizualization in  a structured way while following \"UBM\" Rule.\n",
        "\n",
        "U - Univariate Analysis,\n",
        "\n",
        "B - Bivariate Analysis (Numerical - Categorical, Numerical - Numerical, Categorical - Categorical)\n",
        "\n",
        "M - Multivariate Analysis\n",
        " ]\n",
        "\n",
        "\n",
        "\n"
      ],
      "metadata": {
        "id": "ZrxVaUj-hHfC"
      }
    },
    {
      "cell_type": "markdown",
      "source": [
        "# ***Let's Begin !***"
      ],
      "metadata": {
        "id": "O_i_v8NEhb9l"
      }
    },
    {
      "cell_type": "markdown",
      "source": [
        "## ***1. Know Your Data***"
      ],
      "metadata": {
        "id": "HhfV-JJviCcP"
      }
    },
    {
      "cell_type": "markdown",
      "source": [
        "### Import Libraries"
      ],
      "metadata": {
        "id": "Y3lxredqlCYt"
      }
    },
    {
      "cell_type": "code",
      "source": [
        "# Import Libraries\n",
        "import pandas as pd\n",
        "import numpy as np\n",
        "import seaborn as sns\n",
        "import matplotlib.pyplot as plt"
      ],
      "metadata": {
        "id": "M8Vqi-pPk-HR"
      },
      "execution_count": null,
      "outputs": []
    },
    {
      "cell_type": "markdown",
      "source": [
        "### Dataset Loading"
      ],
      "metadata": {
        "id": "3RnN4peoiCZX"
      }
    },
    {
      "cell_type": "code",
      "source": [
        "# Load Dataset\n",
        "# mounting the drive, so that we can access the files\n",
        "from google.colab import drive\n",
        "drive.mount('/content/drive')"
      ],
      "metadata": {
        "id": "4CkvbW_SlZ_R"
      },
      "execution_count": null,
      "outputs": []
    },
    {
      "cell_type": "code",
      "source": [
        "filepath = '/content/drive/MyDrive/Colab Notebooks/Datasets/Airbnb NYC 2019.csv'\n",
        "airbnb_df = pd.read_csv(filepath)"
      ],
      "metadata": {
        "id": "3JSbDA62G0v0"
      },
      "execution_count": null,
      "outputs": []
    },
    {
      "cell_type": "markdown",
      "source": [
        "### Dataset First View"
      ],
      "metadata": {
        "id": "x71ZqKXriCWQ"
      }
    },
    {
      "cell_type": "code",
      "source": [
        "# Dataset First Look\n",
        "airbnb_df"
      ],
      "metadata": {
        "id": "LWNFOSvLl09H"
      },
      "execution_count": null,
      "outputs": []
    },
    {
      "cell_type": "markdown",
      "source": [
        "### Dataset Rows & Columns count"
      ],
      "metadata": {
        "id": "7hBIi_osiCS2"
      }
    },
    {
      "cell_type": "code",
      "source": [
        "# Dataset Rows & Columns count\n",
        "df_shape = airbnb_df.shape\n",
        "print('Number of rows : ', df_shape[0])\n",
        "print('Number of columns : ', df_shape[1])"
      ],
      "metadata": {
        "id": "Kllu7SJgmLij"
      },
      "execution_count": null,
      "outputs": []
    },
    {
      "cell_type": "markdown",
      "source": [
        "### Dataset Information"
      ],
      "metadata": {
        "id": "JlHwYmJAmNHm"
      }
    },
    {
      "cell_type": "code",
      "source": [
        "# Dataset Info\n",
        "airbnb_df.info()"
      ],
      "metadata": {
        "id": "e9hRXRi6meOf"
      },
      "execution_count": null,
      "outputs": []
    },
    {
      "cell_type": "markdown",
      "source": [
        "#### Duplicate Values"
      ],
      "metadata": {
        "id": "35m5QtbWiB9F"
      }
    },
    {
      "cell_type": "code",
      "source": [
        "# Dataset Duplicate Value Count\n",
        "airbnb_df.drop_duplicates(inplace=True)\n",
        "airbnb_df.count()"
      ],
      "metadata": {
        "id": "1sLdpKYkmox0"
      },
      "execution_count": null,
      "outputs": []
    },
    {
      "cell_type": "code",
      "source": [
        "# So there are no duplicte rows in the dataset."
      ],
      "metadata": {
        "id": "W2FEEqEVLcAz"
      },
      "execution_count": null,
      "outputs": []
    },
    {
      "cell_type": "markdown",
      "source": [
        "#### Missing Values/Null Values"
      ],
      "metadata": {
        "id": "PoPl-ycgm1ru"
      }
    },
    {
      "cell_type": "code",
      "source": [
        "# Missing Values/Null Values Count\n",
        "airbnb_df.isnull().sum()"
      ],
      "metadata": {
        "id": "GgHWkxvamxVg"
      },
      "execution_count": null,
      "outputs": []
    },
    {
      "cell_type": "code",
      "source": [
        "# columns name and host_name does't have that much of null values\n",
        "# So we can fill them with a common value\n",
        "airbnb_df['name'].fillna('not_known', inplace=True)\n",
        "airbnb_df['host_name'].fillna('no_name', inplace=True)"
      ],
      "metadata": {
        "id": "iTwoWncEMk3r"
      },
      "execution_count": null,
      "outputs": []
    },
    {
      "cell_type": "code",
      "source": [
        "# Hence null values of these two columns are removed.\n",
        "# we can check it\n",
        "airbnb_df[['name', 'host_name']].isnull().sum()"
      ],
      "metadata": {
        "id": "6xoCUttUk1rF"
      },
      "execution_count": null,
      "outputs": []
    },
    {
      "cell_type": "code",
      "source": [
        "# Visualizing the missing values\n",
        "airbnb_df['reviews_per_month'] = airbnb_df['reviews_per_month'].replace(np.nan, 0).astype('int64')"
      ],
      "metadata": {
        "id": "3q5wnI3om9sJ"
      },
      "execution_count": null,
      "outputs": []
    },
    {
      "cell_type": "code",
      "source": [
        "airbnb_df[['reviews_per_month']].isnull().sum()"
      ],
      "metadata": {
        "id": "UNPQ-ecbF3r2"
      },
      "execution_count": null,
      "outputs": []
    },
    {
      "cell_type": "code",
      "source": [
        "# So there are now no null values in reviews_per_month column because we replaced null value with 0 value."
      ],
      "metadata": {
        "id": "B11WI3jWGPrG"
      },
      "execution_count": null,
      "outputs": []
    },
    {
      "cell_type": "markdown",
      "source": [
        "### What did you know about your dataset?"
      ],
      "metadata": {
        "id": "H0kj-8xxnORC"
      }
    },
    {
      "cell_type": "markdown",
      "source": [
        "This dataset is about night stays provided in different regions in new york city.This dataset has around 49000 observations.It consists of 16 columns.It is a mix of categorical and numerical values.It contains type of room selected, name of the host as well as listing, reviews, location, etc."
      ],
      "metadata": {
        "id": "gfoNAAC-nUe_"
      }
    },
    {
      "cell_type": "markdown",
      "source": [
        "## ***2. Understanding Your Variables***"
      ],
      "metadata": {
        "id": "nA9Y7ga8ng1Z"
      }
    },
    {
      "cell_type": "code",
      "source": [
        "# Dataset Columns\n",
        "airbnb_df.columns"
      ],
      "metadata": {
        "id": "j7xfkqrt5Ag5"
      },
      "execution_count": null,
      "outputs": []
    },
    {
      "cell_type": "code",
      "source": [
        "# Dataset Describe\n",
        "airbnb_df.describe()"
      ],
      "metadata": {
        "id": "DnOaZdaE5Q5t"
      },
      "execution_count": null,
      "outputs": []
    },
    {
      "cell_type": "markdown",
      "source": [
        "### Variables Description"
      ],
      "metadata": {
        "id": "PBTbrJXOngz2"
      }
    },
    {
      "cell_type": "markdown",
      "source": [
        "\n",
        "*   id - This is the unique identifier for each listing in the dataset\n",
        "*   name - This is the name of the listing\n",
        "\n",
        "*   host_id - This is unique indentifier for each host in the dataset\n",
        "\n",
        "*   Hhost_name :- This is the name of the host.\n",
        "\n",
        "*   neighbourhood_group :- This is a grouping of neighborhoods or boroughs in New York City, There are total 5 of them such as Manhattan or Brooklyn, etc.\n",
        "\n",
        "*   neighbourhood :- This is the specific neighborhood in which the listing is located.\n",
        "\n",
        "*   latitude :- This is the geographic latitude of the listing.\n",
        "\n",
        "*   longitude :- This is the geographic longitude of the listing.\n",
        "*   room_type :- This is the type of room being offered, such as an entire home, private room or shared room.\n",
        "*   price :- This is the nightly price for the listing in US dollars.\n",
        "\n",
        "\n",
        "*   minimum_nights :- This is the minimum number of nights that a guest must pay for.\n",
        "\n",
        "\n",
        "*   number_of_reviews :- This is the total number of reviews that the listing has received.\n",
        "\n",
        "\n",
        "*   last Review :- Date at which last review is posted by some guest.\n",
        "\n",
        "*   reviews_per_month :- This is the average number of reviews that the listing receives per month.\n",
        "\n",
        "*   calculated_host_listings_count :- This is the total number of listings that the host has on Airbnb website.\n",
        "\n",
        "\n",
        "*   availability_365 :- This is the number of days in the next 365 days that the listing is available for booking.\n",
        "\n",
        "\n",
        "\n",
        "\n"
      ],
      "metadata": {
        "id": "aJV4KIxSnxay"
      }
    },
    {
      "cell_type": "markdown",
      "source": [
        "### Check Unique Values for each variable."
      ],
      "metadata": {
        "id": "u3PMJOP6ngxN"
      }
    },
    {
      "cell_type": "code",
      "source": [
        "# Check Unique Values for each variable.\n",
        "all_columns = airbnb_df.columns\n",
        "for col in all_columns:\n",
        "  print(f\"{col} : {airbnb_df[col].nunique()}\")"
      ],
      "metadata": {
        "id": "zms12Yq5n-jE"
      },
      "execution_count": null,
      "outputs": []
    },
    {
      "cell_type": "code",
      "source": [
        "# On the basis of above data we can say that\n",
        "# 1) Every value in the columns id is unique\n",
        "# 2) There are total 5 neighbourhood groups which consists of 221 neighbourhoods."
      ],
      "metadata": {
        "id": "vqmvqu-BObQK"
      },
      "execution_count": null,
      "outputs": []
    },
    {
      "cell_type": "markdown",
      "source": [
        "## 3. ***Data Wrangling***"
      ],
      "metadata": {
        "id": "dauF4eBmngu3"
      }
    },
    {
      "cell_type": "markdown",
      "source": [
        "### Data Wrangling Code"
      ],
      "metadata": {
        "id": "bKJF3rekwFvQ"
      }
    },
    {
      "cell_type": "code",
      "source": [
        "# Write your code to make your dataset analysis ready.\n",
        "# We can drop last review column because it's last date on which someone posted a review. We don't need it for analysis purpose.\n",
        "airbnb_df.drop(['last_review'], axis=1, inplace=True)"
      ],
      "metadata": {
        "id": "wk-9a2fpoLcV"
      },
      "execution_count": null,
      "outputs": []
    },
    {
      "cell_type": "code",
      "source": [
        "sns.boxplot(x = airbnb_df['price'])\n",
        "\n",
        "plt.show()"
      ],
      "metadata": {
        "id": "isb8xfH8u1nL"
      },
      "execution_count": null,
      "outputs": []
    },
    {
      "cell_type": "code",
      "source": [
        "# writing a outlier function for removing outliers in important columns.\n",
        "def iqr_technique(DFcolumn):\n",
        "  Q1 = np.percentile(DFcolumn, 25)\n",
        "  Q3 = np.percentile(DFcolumn, 75)\n",
        "  IQR = Q3 - Q1\n",
        "  lower_range = Q1 - (1.5 * IQR)\n",
        "  upper_range = Q3 + (1.5 * IQR)                        # interquantile range\n",
        "\n",
        "  return lower_range,upper_range"
      ],
      "metadata": {
        "id": "mQjyuwHiuQsn"
      },
      "execution_count": null,
      "outputs": []
    },
    {
      "cell_type": "code",
      "source": [
        "lower_bound,upper_bound = iqr_technique(airbnb_df['price'])\n",
        "\n",
        "airbnb_df = airbnb_df[(airbnb_df.price>lower_bound) & (airbnb_df.price< upper_bound)]"
      ],
      "metadata": {
        "id": "UHDci_ipumvz"
      },
      "execution_count": null,
      "outputs": []
    },
    {
      "cell_type": "code",
      "source": [
        "# so the outliers are removed from price column now check with boxplot and also check shape of new Dataframe!\n",
        "\n",
        "sns.boxplot(x = airbnb_df['price'])\n",
        "print(airbnb_df.shape)"
      ],
      "metadata": {
        "id": "6ppHbsNru0qc"
      },
      "execution_count": null,
      "outputs": []
    },
    {
      "cell_type": "code",
      "source": [
        "print(airbnb_df['price'].max())"
      ],
      "metadata": {
        "id": "AEsI1udX851e"
      },
      "execution_count": null,
      "outputs": []
    },
    {
      "cell_type": "code",
      "source": [
        "airbnb_df.info()"
      ],
      "metadata": {
        "id": "rZKBQa0PRySV"
      },
      "execution_count": null,
      "outputs": []
    },
    {
      "cell_type": "markdown",
      "source": [
        "### What all manipulations have you done and insights you found?"
      ],
      "metadata": {
        "id": "MSa1f5Uengrz"
      }
    },
    {
      "cell_type": "markdown",
      "source": [
        "I have performed data cleaning which includes removing duplicates, handling missing or null values, droping columns if not required.\n",
        "Hence our dataset is ready for visualization and analysis."
      ],
      "metadata": {
        "id": "LbyXE7I1olp8"
      }
    },
    {
      "cell_type": "markdown",
      "source": [
        "## ***4. Data Vizualization, Storytelling & Experimenting with charts : Understand the relationships between variables***"
      ],
      "metadata": {
        "id": "GF8Ens_Soomf"
      }
    },
    {
      "cell_type": "markdown",
      "source": [
        "#### Chart - 1 (Distribution of airbnb bookings price range using histogram)"
      ],
      "metadata": {
        "id": "0wOQAZs5pc--"
      }
    },
    {
      "cell_type": "code",
      "source": [
        "# Chart - 1 visualization code\n",
        "sns.histplot(data=airbnb_df, x=airbnb_df['price'], kde=True)\n",
        "plt.xlabel('Price')\n",
        "plt.ylabel('Count')\n",
        "plt.title('Distribution of Airbnb Prices')\n",
        "plt.show()"
      ],
      "metadata": {
        "id": "7v_ESjsspbW7"
      },
      "execution_count": null,
      "outputs": []
    },
    {
      "cell_type": "markdown",
      "source": [
        "##### 1. Why did you pick the specific chart?"
      ],
      "metadata": {
        "id": "K5QZ13OEpz2H"
      }
    },
    {
      "cell_type": "markdown",
      "source": [
        "Histogram is used to display distribution of numeric values in our case price of the listing."
      ],
      "metadata": {
        "id": "XESiWehPqBRc"
      }
    },
    {
      "cell_type": "markdown",
      "source": [
        "##### 2. What is/are the insight(s) found from the chart?"
      ],
      "metadata": {
        "id": "lQ7QKXXCp7Bj"
      }
    },
    {
      "cell_type": "markdown",
      "source": [
        "1.   Range of the prices of listings fall between 30 to 350.\n",
        "2.   Most of the listings have prices between 50 to 200.\n",
        "3.   There are very less listings whose prices are below 30 and above 250."
      ],
      "metadata": {
        "id": "C_j1G7yiqdRP"
      }
    },
    {
      "cell_type": "markdown",
      "source": [
        "##### 3. Will the gained insights help creating a positive business impact?\n",
        "Are there any insights that lead to negative growth? Justify with specific reason."
      ],
      "metadata": {
        "id": "448CDAPjqfQr"
      }
    },
    {
      "cell_type": "markdown",
      "source": [
        "Yes the impact is positive because prices are affordable for guests."
      ],
      "metadata": {
        "id": "3cspy4FjqxJW"
      }
    },
    {
      "cell_type": "markdown",
      "source": [
        "#### Chart - 2 (Total listing count in each neighbourhood group by using Barplot)"
      ],
      "metadata": {
        "id": "KSlN3yHqYklG"
      }
    },
    {
      "cell_type": "code",
      "source": [
        "# Chart - 2 visualization code\n",
        "counts_series = airbnb_df['neighbourhood_group'].value_counts()\n",
        "\n",
        "# Resetting the index of the series\n",
        "neighbourhood_group_df = counts_series.reset_index()\n",
        "\n",
        "# Rename the columns of the dataframe\n",
        "neighbourhood_group_df.columns = ['Neighbourhood_groups', 'Listing_counts']\n",
        "\n",
        "# display the resulting DataFrame\n",
        "neighbourhood_group_df"
      ],
      "metadata": {
        "id": "R4YgtaqtYklH"
      },
      "execution_count": null,
      "outputs": []
    },
    {
      "cell_type": "code",
      "source": [
        "sns.barplot(data=neighbourhood_group_df, x='Neighbourhood_groups', y='Listing_counts', hue='Neighbourhood_groups')\n",
        "plt.title('Count of listings in different groups')\n",
        "plt.show()"
      ],
      "metadata": {
        "id": "DfG8rVzp7vUJ"
      },
      "execution_count": null,
      "outputs": []
    },
    {
      "cell_type": "markdown",
      "source": [
        "##### 1. Why did you pick the specific chart?"
      ],
      "metadata": {
        "id": "t6dVpIINYklI"
      }
    },
    {
      "cell_type": "markdown",
      "source": [
        "We have used bar plot here because neighbourhood_groups is categorical variable.So we can compare values of different categories."
      ],
      "metadata": {
        "id": "5aaW0BYyYklI"
      }
    },
    {
      "cell_type": "markdown",
      "source": [
        "##### 2. What is/are the insight(s) found from the chart?"
      ],
      "metadata": {
        "id": "ijmpgYnKYklI"
      }
    },
    {
      "cell_type": "markdown",
      "source": [
        "1.   There are highest number of listings in Manhattan and Brooklyn.\n",
        "2.   Queens and Bronx have fewer number of listings than Manhattan and Brooklyn.\n",
        "3.   Staten Island have lowest number of listings.\n",
        "\n",
        "1.   As there are more number of listings in Manhattan and Brooklyn, property oweners are more willing to list on Airbnb.\n",
        "2.   There is more demand for a listing available in Manhattan and Brooklyn.\n",
        "\n"
      ],
      "metadata": {
        "id": "PSx9atu2YklI"
      }
    },
    {
      "cell_type": "markdown",
      "source": [
        "More listings can be registered on Airbnb by reaching property owners due to high demand in Manhattan and Brooklyn."
      ],
      "metadata": {
        "id": "BcBbebzrYklV"
      }
    },
    {
      "cell_type": "markdown",
      "source": [
        "#### Chart - 3 (Average prices by neighbourhood using line plot)"
      ],
      "metadata": {
        "id": "EM7whBJCYoAo"
      }
    },
    {
      "cell_type": "code",
      "source": [
        "# Chart - 3 visualization code\n",
        "# Group the Airbnb dataset by neighborhood group and calculate the mean of each group\n",
        "group = airbnb_df.groupby([\"neighbourhood_group\"]).mean('price')\n",
        "\n",
        "# Reset the index of the grouped dataframe so that the neighborhood group becomes a column\n",
        "neighbourhood_group_avg_price = group.reset_index()\n",
        "\n",
        "# Rename the \"price\" column to \"avg_price\"\n",
        "neighbourhood_group_avg_price = round(neighbourhood_group_avg_price.rename(columns={\"price\": \"avg_price\"}),2)\n",
        "\n",
        "# Select only the \"neighbourhood_group\" and \"avg_price\" columns\n",
        "neighbourhood_group_avg_price_df = neighbourhood_group_avg_price[['neighbourhood_group', 'avg_price']].head()\n",
        "neighbourhood_group_avg_price_df"
      ],
      "metadata": {
        "id": "t6GMdE67YoAp"
      },
      "execution_count": null,
      "outputs": []
    },
    {
      "cell_type": "code",
      "source": [
        "sns.lineplot(data=neighbourhood_group_avg_price_df, x=\"neighbourhood_group\", y=\"avg_price\")\n",
        "plt.title('Averge Prices by neighbourhood')\n",
        "plt.show()"
      ],
      "metadata": {
        "id": "DtyYgib0HeLM"
      },
      "execution_count": null,
      "outputs": []
    },
    {
      "cell_type": "markdown",
      "source": [
        "##### 1. Why did you pick the specific chart?"
      ],
      "metadata": {
        "id": "fge-S5ZAYoAp"
      }
    },
    {
      "cell_type": "markdown",
      "source": [
        "Line chart is suitable for numberic data like avg_price."
      ],
      "metadata": {
        "id": "5dBItgRVYoAp"
      }
    },
    {
      "cell_type": "markdown",
      "source": [
        "##### 2. What is/are the insight(s) found from the chart?"
      ],
      "metadata": {
        "id": "85gYPyotYoAp"
      }
    },
    {
      "cell_type": "markdown",
      "source": [
        "\n",
        "\n",
        "1.   Even if Manhattan and Brooklyn have nearly same number of listings, Manhattan is more costly than Brooklyn.\n",
        "2.   There is not much difference in prices of listings in Queens and Staten island.\n",
        "3.   Listings in Bronx have minimum prices among other neighbourhood groups.\n",
        "\n",
        "\n",
        "\n",
        "\n"
      ],
      "metadata": {
        "id": "4jstXR6OYoAp"
      }
    },
    {
      "cell_type": "markdown",
      "source": [],
      "metadata": {
        "id": "zfJ8IqMcYoAp"
      }
    },
    {
      "cell_type": "markdown",
      "source": [
        "#### Chart - 4 (Top neighbourhoods by listing count using bar plot)"
      ],
      "metadata": {
        "id": "4Of9eVA-YrdM"
      }
    },
    {
      "cell_type": "code",
      "source": [
        "# Chart - 4 visualization code\n",
        "# getting top 10 neighbourhoods using slicing\n",
        "top_neighbourhoods = airbnb_df['neighbourhood'].value_counts()[:10].reset_index()\n",
        "\n",
        "# Dataframe of top 10 neighbourhoods\n",
        "top_neighbourhoods"
      ],
      "metadata": {
        "id": "irlUoxc8YrdO"
      },
      "execution_count": null,
      "outputs": []
    },
    {
      "cell_type": "code",
      "source": [
        "fig, ax = plt.subplots(figsize=(18, 6))\n",
        "sns.barplot(data=top_neighbourhoods, x='neighbourhood', y='count',hue='neighbourhood', ax=ax)\n",
        "plt.xlabel('Neighbourhoods')\n",
        "plt.ylabel('Listing Counts')\n",
        "plt.title('Top neighbourhoods by listing')\n",
        "plt.show()"
      ],
      "metadata": {
        "id": "3tKECpJV3qX6"
      },
      "execution_count": null,
      "outputs": []
    },
    {
      "cell_type": "markdown",
      "source": [
        "##### 1. Why did you pick the specific chart?"
      ],
      "metadata": {
        "id": "iky9q4vBYrdO"
      }
    },
    {
      "cell_type": "markdown",
      "source": [
        "Bar charts are good for comparing values across different categories."
      ],
      "metadata": {
        "id": "aJRCwT6DYrdO"
      }
    },
    {
      "cell_type": "markdown",
      "source": [
        "##### 2. What is/are the insight(s) found from the chart?"
      ],
      "metadata": {
        "id": "F6T5p64dYrdO"
      }
    },
    {
      "cell_type": "markdown",
      "source": [
        "1.   Top 3 neighbourhoods are Williamsburg, Bedford-stuyvesant, Harlem.\n",
        "2.   According to chart Upper West Side, Hell's Kitchen, East Village, Upper East Side have nearly eqal listings.\n",
        "3.   Most of the top neighbourhoods belongs to Manhattan and Brooklyn boroughs because of high population and high demand.\n",
        "\n",
        "\n",
        "\n"
      ],
      "metadata": {
        "id": "Xx8WAJvtYrdO"
      }
    },
    {
      "cell_type": "markdown",
      "source": [
        "#### Chart - 5 (Top hosts based on more listings using bar chart)"
      ],
      "metadata": {
        "id": "bamQiAODYuh1"
      }
    },
    {
      "cell_type": "code",
      "source": [
        "# Chart - 5 visualization code\n",
        "top_hosts = airbnb_df['host_name'].value_counts()[:10].reset_index()\n",
        "top_hosts"
      ],
      "metadata": {
        "id": "TIJwrbroYuh3"
      },
      "execution_count": null,
      "outputs": []
    },
    {
      "cell_type": "code",
      "source": [
        "fig, ax = plt.subplots(figsize=(15, 6))\n",
        "sns.barplot(data=top_hosts, x='host_name', y='count',hue='host_name', ax=ax)\n",
        "plt.xlabel('Host Names')\n",
        "plt.ylabel('Listing Counts')\n",
        "plt.title('Top hosts on the basis of listing counts')\n",
        "plt.show()"
      ],
      "metadata": {
        "id": "c4X-5WZQ8VzU"
      },
      "execution_count": null,
      "outputs": []
    },
    {
      "cell_type": "markdown",
      "source": [
        "##### 1. Why did you pick the specific chart?"
      ],
      "metadata": {
        "id": "QHF8YVU7Yuh3"
      }
    },
    {
      "cell_type": "markdown",
      "source": [
        "Bar chart is suitable for comparing values across different categories."
      ],
      "metadata": {
        "id": "dcxuIMRPYuh3"
      }
    },
    {
      "cell_type": "markdown",
      "source": [
        "##### 2. What is/are the insight(s) found from the chart?"
      ],
      "metadata": {
        "id": "GwzvFGzlYuh3"
      }
    },
    {
      "cell_type": "markdown",
      "source": [
        "1.   Michael, David, John are top hosts with 383, 368, 276 listings respectively.\n",
        "2.   There is huge difference of listings between first 2 hosts and rest of the hosts.\n",
        "3.   There are total 6 male hosts and 4 female hosts in top 10 hosts.  "
      ],
      "metadata": {
        "id": "uyqkiB8YYuh3"
      }
    },
    {
      "cell_type": "markdown",
      "source": [
        "Answer Here"
      ],
      "metadata": {
        "id": "_WtzZ_hCYuh4"
      }
    },
    {
      "cell_type": "markdown",
      "source": [
        "#### Chart - 6 (Number of hosts per neighbourhood group)\n"
      ],
      "metadata": {
        "id": "OH-pJp9IphqM"
      }
    },
    {
      "cell_type": "code",
      "source": [
        "# Chart - 6 visualization code\n",
        "hosts_per_neighbourhood_group = airbnb_df.groupby('neighbourhood_group')['id'].count().reset_index()\n",
        "hosts_per_neighbourhood_group"
      ],
      "metadata": {
        "id": "kuRf4wtuphqN"
      },
      "execution_count": null,
      "outputs": []
    },
    {
      "cell_type": "code",
      "source": [
        "sns.lineplot(x='neighbourhood_group', y='id', data=hosts_per_neighbourhood_group)\n",
        "plt.xlabel('Neighbourhood Groups')\n",
        "plt.ylabel('Host Count')\n",
        "plt.title('Hosts per Neighbourhood groups')\n",
        "plt.show()"
      ],
      "metadata": {
        "id": "WtZEcSxD_zVV"
      },
      "execution_count": null,
      "outputs": []
    },
    {
      "cell_type": "markdown",
      "source": [
        "##### 1. Why did you pick the specific chart?"
      ],
      "metadata": {
        "id": "bbFf2-_FphqN"
      }
    },
    {
      "cell_type": "markdown",
      "source": [
        "Line plot is used to track changes in values, hence it is used here."
      ],
      "metadata": {
        "id": "loh7H2nzphqN"
      }
    },
    {
      "cell_type": "markdown",
      "source": [
        "##### 2. What is/are the insight(s) found from the chart?"
      ],
      "metadata": {
        "id": "_ouA3fa0phqN"
      }
    },
    {
      "cell_type": "markdown",
      "source": [
        "\n",
        "\n",
        "1.   Manhattan and Brooklyn have most hosts with more than 19000 count.\n",
        "2.   Queens have 3rd most number of hosts with more than 5000 count.\n",
        "3.   Bronx and Staten Island have very less number of hosts between 300 and 1100.\n",
        "\n",
        "\n",
        "\n",
        "\n"
      ],
      "metadata": {
        "id": "VECbqPI7phqN"
      }
    },
    {
      "cell_type": "markdown",
      "source": [
        "#### Chart - 7 (Top neighbourhood groups based on reviews per month.)"
      ],
      "metadata": {
        "id": "PIIx-8_IphqN"
      }
    },
    {
      "cell_type": "code",
      "source": [
        "# Chart - 7 visualization code\n",
        "visitor = airbnb_df.groupby('neighbourhood').sum('reviews_per_month').sort_values(by=['reviews_per_month'], ascending=False)[:10].reset_index()\n",
        "visitor_df = visitor[['neighbourhood','reviews_per_month']]\n",
        "visitor_df"
      ],
      "metadata": {
        "id": "lqAIGUfyphqO"
      },
      "execution_count": null,
      "outputs": []
    },
    {
      "cell_type": "code",
      "source": [
        "fig, ax = plt.subplots(figsize=(18, 6))\n",
        "sns.barplot(data=visitor_df, x='neighbourhood', y='reviews_per_month', hue='neighbourhood', ax=ax)"
      ],
      "metadata": {
        "id": "vtgbMpUjktum"
      },
      "execution_count": null,
      "outputs": []
    },
    {
      "cell_type": "markdown",
      "source": [
        "##### 1. Why did you pick the specific chart?"
      ],
      "metadata": {
        "id": "t27r6nlMphqO"
      }
    },
    {
      "cell_type": "markdown",
      "source": [
        "Bar chart is suitable for comparing values across different categories."
      ],
      "metadata": {
        "id": "iv6ro40sphqO"
      }
    },
    {
      "cell_type": "markdown",
      "source": [
        "##### 2. What is/are the insight(s) found from the chart?"
      ],
      "metadata": {
        "id": "r2jJGEOYphqO"
      }
    },
    {
      "cell_type": "markdown",
      "source": [
        "1.   We can assume that more the number of reviews per month, more the number the number of guests.\n",
        "2.   Bedford might have most guests among other neighbourhoods.\n",
        "3.   Williamsburg, harlem, Hell's Kitchen, Bushwick might have 2nd most number of guests."
      ],
      "metadata": {
        "id": "Po6ZPi4hphqO"
      }
    },
    {
      "cell_type": "markdown",
      "source": [
        "#### Chart - 8 (Average price In neighborhoods using scatter and bar chart)"
      ],
      "metadata": {
        "id": "BZR9WyysphqO"
      }
    },
    {
      "cell_type": "code",
      "source": [
        "# Chart - 8 visualization code\n",
        "# create a new DataFrame that displays the average price of Airbnb rentals in each neighborhood\n",
        "neighbourhood_avg_price = airbnb_df.groupby(\"neighbourhood\").mean('price').reset_index().rename(columns={\"price\": \"avg_price\"})[['neighbourhood', 'avg_price']]\n",
        "\n",
        "# select the top 10 neighborhoods with the lowest average prices\n",
        "neighbourhood_avg_price = neighbourhood_avg_price.sort_values(\"avg_price\").head(10)\n",
        "\n",
        "# join the resulting DataFrame with the 'neighbourhood_group' column from the Airbnb NYC dataset, dropping any duplicate entries\n",
        "neighbourhood_avg_price_sorted_with_group = neighbourhood_avg_price.join(airbnb_df[['neighbourhood', 'neighbourhood_group']].drop_duplicates().set_index('neighbourhood'),\n",
        "                                                                         on='neighbourhood')\n",
        "\n",
        "# Display the resulting data\n",
        "neighbourhood_avg_price_sorted_with_group"
      ],
      "metadata": {
        "id": "TdPTWpAVphqO"
      },
      "execution_count": null,
      "outputs": []
    },
    {
      "cell_type": "code",
      "source": [
        "# neighbourhood_avg_price = (airbnb_df.groupby(\"neighbourhood\").mean().reset_index().rename(columns={\"price\": \"avg_price\"}))[['neighbourhood', 'avg_price']]\n",
        "neighbourhood_avg_price = (neighbourhood_avg_price.sort_values(\"avg_price\"))\n",
        "\n",
        "# Group the data by neighborhood and calculate the average price\n",
        "neighbourhood_avg_price = airbnb_df.groupby(\"neighbourhood\")[\"price\"].mean()\n",
        "\n",
        "# Create a new DataFrame with the average price for each neighborhood\n",
        "neighbourhood_prices = pd.DataFrame({\"neighbourhood\": neighbourhood_avg_price.index, \"avg_price\": neighbourhood_avg_price.values})\n",
        "\n",
        "# Merge the average price data with the original DataFrame#trying to find where the coordinates belong from the latitude and longitude\n",
        "df = airbnb_df.merge(neighbourhood_prices, on=\"neighbourhood\")\n",
        "\n",
        "# Create the scattermapbox plot\n",
        "fig = df.plot.scatter(x=\"longitude\", y=\"latitude\", c=\"avg_price\", title=\"Average Airbnb Price by Neighborhoods in New York City\", figsize=(12,6), cmap=\"plasma\")\n",
        "fig"
      ],
      "metadata": {
        "id": "rTBhm45QtLMy"
      },
      "execution_count": null,
      "outputs": []
    },
    {
      "cell_type": "code",
      "source": [
        "# Extract the values from the dataset\n",
        "neighborhoods = neighbourhood_avg_price_sorted_with_group['neighbourhood']\n",
        "prices = neighbourhood_avg_price_sorted_with_group['avg_price']\n",
        "\n",
        "# Create the bar plot\n",
        "plt.figure(figsize=(15,5))\n",
        "plt.bar(neighborhoods, prices, width=0.5, color = 'green')\n",
        "plt.xlabel('Neighborhood')\n",
        "plt.ylabel('Average Price')\n",
        "plt.title('Average Price by Neighborhood')\n",
        "\n",
        "# Show the plot\n",
        "plt.show()"
      ],
      "metadata": {
        "id": "m5nm80Rdthq_"
      },
      "execution_count": null,
      "outputs": []
    },
    {
      "cell_type": "markdown",
      "source": [
        "##### 1. Why did you pick the specific chart?"
      ],
      "metadata": {
        "id": "jj7wYXLtphqO"
      }
    },
    {
      "cell_type": "markdown",
      "source": [
        "We have used scatter plot here because we have latitute and longitude which can be used to display geogrophical region using scatter plot.\n"
      ],
      "metadata": {
        "id": "Ob8u6rCTphqO"
      }
    },
    {
      "cell_type": "markdown",
      "source": [
        "##### 2. What is/are the insight(s) found from the chart?"
      ],
      "metadata": {
        "id": "eZrbJ2SmphqO"
      }
    },
    {
      "cell_type": "markdown",
      "source": [
        "\n",
        "\n",
        "1.   All of the neighborhoods listed are located in the outer boroughs of New York City (Bronx, Queens, and Staten Island). This suggests that these neighborhoods may have a lower overall cost of living compared to neighborhoods in Manhattan and Brooklyn.\n",
        "2.   Most of these neighborhoods are located in the Bronx and Staten Island. These boroughs tend to have a lower overall cost of living compared to Manhattan and Brooklyn.\n",
        "3.   These neighborhoods may be attractive to renters or buyers looking for more affordable housing options in the New York City area."
      ],
      "metadata": {
        "id": "mZtgC_hjphqO"
      }
    },
    {
      "cell_type": "markdown",
      "source": [
        "#### Chart - 9 (Total counts of each room type using pie chart)"
      ],
      "metadata": {
        "id": "YJ55k-q6phqO"
      }
    },
    {
      "cell_type": "code",
      "source": [
        "# Chart - 9 visualization code\n",
        "# Creating a new dataframe which consists of room type and corresponding count\n",
        "room_df = airbnb_df['room_type'].value_counts().reset_index()\n",
        "room_df"
      ],
      "metadata": {
        "id": "B2aS4O1ophqO"
      },
      "execution_count": null,
      "outputs": []
    },
    {
      "cell_type": "code",
      "source": [
        "palette_color = sns.color_palette('bright')\n",
        "plt.pie(room_df['count'], labels=room_df['room_type'], colors=palette_color, autopct='%1.1f%%')\n",
        "plt.show()"
      ],
      "metadata": {
        "id": "Beg8OgRaNlO4"
      },
      "execution_count": null,
      "outputs": []
    },
    {
      "cell_type": "markdown",
      "source": [
        "##### 1. Why did you pick the specific chart?"
      ],
      "metadata": {
        "id": "gCFgpxoyphqP"
      }
    },
    {
      "cell_type": "markdown",
      "source": [
        "Here we have only 3 quantities namely Entire home, Private room, Shared room to display. Hence we have used a pie chart to display their proportions."
      ],
      "metadata": {
        "id": "TVxDimi2phqP"
      }
    },
    {
      "cell_type": "markdown",
      "source": [
        "##### 2. What is/are the insight(s) found from the chart?"
      ],
      "metadata": {
        "id": "OVtJsKN_phqQ"
      }
    },
    {
      "cell_type": "markdown",
      "source": [
        "\n",
        "\n",
        "1.   Most of the listings are either entire home or private room.\n",
        "2.   Shared room listings are very less comprising only 2.5% of the total share.\n",
        "\n"
      ],
      "metadata": {
        "id": "ngGi97qjphqQ"
      }
    },
    {
      "cell_type": "markdown",
      "source": [
        "##### 3. Will the gained insights help creating a positive business impact?\n",
        "Are there any insights that lead to negative growth? Justify with specific reason."
      ],
      "metadata": {
        "id": "lssrdh5qphqQ"
      }
    },
    {
      "cell_type": "markdown",
      "source": [
        "There is no negative impact as such but listings of type shared room shoud be increased on airbnb site to provide flexibility for guests to choose."
      ],
      "metadata": {
        "id": "tBpY5ekJphqQ"
      }
    },
    {
      "cell_type": "markdown",
      "source": [
        "#### Chart - 10 (Total reviews by each neighborhood group using pie chart)"
      ],
      "metadata": {
        "id": "U2RJ9gkRphqQ"
      }
    },
    {
      "cell_type": "code",
      "source": [
        "# Chart - 10 visualization code\n",
        "# Group the data by neighborhood group and calculate the total number of reviews\n",
        "reviews_by_neighbourhood_group = airbnb_df.groupby(\"neighbourhood_group\")[\"number_of_reviews\"].sum()\n",
        "\n",
        "# Create a pie chart\n",
        "plt.pie(reviews_by_neighbourhood_group, labels=reviews_by_neighbourhood_group.index, autopct='%1.1f%%')\n",
        "plt.title(\"Number of Reviews by Neighborhood Group in New York City\", fontsize='15')\n",
        "\n",
        "# Display the chart\n",
        "plt.show()"
      ],
      "metadata": {
        "id": "GM7a4YP4phqQ"
      },
      "execution_count": null,
      "outputs": []
    },
    {
      "cell_type": "markdown",
      "source": [
        "##### 1. Why did you pick the specific chart?"
      ],
      "metadata": {
        "id": "1M8mcRywphqQ"
      }
    },
    {
      "cell_type": "markdown",
      "source": [
        "for visualizing how different neighbourhoods contributes to the whole in terms of reviews, we have used pie chart."
      ],
      "metadata": {
        "id": "8agQvks0phqQ"
      }
    },
    {
      "cell_type": "markdown",
      "source": [
        "##### 2. What is/are the insight(s) found from the chart?"
      ],
      "metadata": {
        "id": "tgIPom80phqQ"
      }
    },
    {
      "cell_type": "markdown",
      "source": [
        "\n",
        "\n",
        "1.   Brooklyn has the largest share of total reviews on Airbnb, with 43.3%, followed by Manhattan with 38.9%.\n",
        "2.   Queens has the third largest share of total reviews, with 14.2%, followed by the Bronx with 2.6% and Staten Island with 1.0%.\n",
        "3.   Despite having fewer listings, Brooklyn has more reviews on Airbnb compared to Manhattan.\n",
        "\n",
        "\n",
        "\n",
        "\n"
      ],
      "metadata": {
        "id": "Qp13pnNzphqQ"
      }
    },
    {
      "cell_type": "markdown",
      "source": [
        "##### 3. Will the gained insights help creating a positive business impact?\n",
        "Are there any insights that lead to negative growth? Justify with specific reason."
      ],
      "metadata": {
        "id": "JMzcOPDDphqR"
      }
    },
    {
      "cell_type": "markdown",
      "source": [
        "The data suggests that Airbnb is more popular in Brooklyn and Manhattan compared to the other neighborhood groups.So Airbnb can focus more on other neighbourhood groups."
      ],
      "metadata": {
        "id": "R4Ka1PC2phqR"
      }
    },
    {
      "cell_type": "markdown",
      "source": [
        "#### Chart - 11 (Use latitude and longitude in scatterplot map and find neighbourhood_groups and room types in map)"
      ],
      "metadata": {
        "id": "x-EpHcCOp1ci"
      }
    },
    {
      "cell_type": "code",
      "source": [
        "# Chart - 11 visualization code\n",
        "#trying to find where the coordinates belong from the latitude and longitude\n",
        "\n",
        "# set the default figure size for the seaborn library\n",
        "sns.set(rc={\"figure.figsize\": (10, 8)})\n",
        "\n",
        "# create a scatter plot that displays the longitude and latitude of the listings in the Airbnb NYC dataset\n",
        "ax = sns.scatterplot(data=airbnb_df, x=\"longitude\", y=\"latitude\", hue='neighbourhood_group', palette='bright')\n",
        "\n",
        "# set the title of the plot\n",
        "ax.set_title('Location Co-ordinates', fontsize='14')"
      ],
      "metadata": {
        "id": "mAQTIvtqp1cj"
      },
      "execution_count": null,
      "outputs": []
    },
    {
      "cell_type": "code",
      "source": [
        "# Let's observe the type of room_types\n",
        "\n",
        "# set the default figure size for the seaborn library\n",
        "sns.set(rc={\"figure.figsize\": (10, 8)})\n",
        "\n",
        "# create a scatter plot that displays the longitude and latitude of the listings in the Airbnb NYC dataset with room_types.\n",
        "ax = sns.scatterplot(x=airbnb_df.longitude, y=airbnb_df.latitude, hue=airbnb_df.room_type, palette='muted')\n",
        "\n",
        "# set the title of the plot\n",
        "ax.set_title('Distribution of type of rooms across NYC', fontsize='14')\n"
      ],
      "metadata": {
        "id": "K5Nvj9PEU8da"
      },
      "execution_count": null,
      "outputs": []
    },
    {
      "cell_type": "markdown",
      "source": [
        "##### 1. Why did you pick the specific chart?"
      ],
      "metadata": {
        "id": "X_VqEhTip1ck"
      }
    },
    {
      "cell_type": "markdown",
      "source": [
        "we have picked scatter plot as we have latitude and longitude."
      ],
      "metadata": {
        "id": "-vsMzt_np1ck"
      }
    },
    {
      "cell_type": "markdown",
      "source": [
        "##### 2. What is/are the insight(s) found from the chart?"
      ],
      "metadata": {
        "id": "8zGJKyg5p1ck"
      }
    },
    {
      "cell_type": "markdown",
      "source": [
        "Geographical representation of new york city helps guests to easily check which types of rooms are there across different neighbourhoods."
      ],
      "metadata": {
        "id": "ZYdMsrqVp1ck"
      }
    },
    {
      "cell_type": "markdown",
      "source": [
        "Answer Here"
      ],
      "metadata": {
        "id": "druuKYZpp1ck"
      }
    },
    {
      "cell_type": "markdown",
      "source": [
        "#### Chart - 12 (Stay requirement counts by minimum nights using bar chart)"
      ],
      "metadata": {
        "id": "n3dbpmDWp1ck"
      }
    },
    {
      "cell_type": "code",
      "source": [
        "# Chart - 12 visualization code\n",
        "# Group the DataFrame by the minimum_nights column and count the number of rows in each group\n",
        "min_nights_count = airbnb_df.groupby('minimum_nights').size().reset_index(name = 'count')\n",
        "\n",
        "# Sort the resulting DataFrame in descending order by the count column\n",
        "min_nights_count = min_nights_count.sort_values('count', ascending=False)\n",
        "\n",
        "# Select the top 10 rows\n",
        "min_nights_count = min_nights_count.head(15)\n",
        "\n",
        "# Reset the index\n",
        "min_nights_count = min_nights_count.reset_index(drop=True)\n",
        "\n",
        "# Display the resulting DataFrame\n",
        "min_nights_count"
      ],
      "metadata": {
        "id": "bwevp1tKp1ck"
      },
      "execution_count": null,
      "outputs": []
    },
    {
      "cell_type": "code",
      "source": [
        "# Extract the minimum_nights and count columns from the DataFrame\n",
        "minimum_nights = min_nights_count['minimum_nights']\n",
        "count = min_nights_count['count']\n",
        "\n",
        "# Set the figure size\n",
        "plt.figure(figsize=(12, 4))\n",
        "\n",
        "# Create the bar plot\n",
        "plt.bar(minimum_nights, count)\n",
        "\n",
        "# Add axis labels and a title\n",
        "plt.xlabel('Minimum Nights', fontsize='14')\n",
        "plt.ylabel('Count', fontsize='14')\n",
        "plt.title('Stay Requirement by Minimum Nights', fontsize='15')\n",
        "\n",
        "# Show the plot\n",
        "plt.show()"
      ],
      "metadata": {
        "id": "5pLrRm54XeU6"
      },
      "execution_count": null,
      "outputs": []
    },
    {
      "cell_type": "markdown",
      "source": [
        "##### 1. Why did you pick the specific chart?"
      ],
      "metadata": {
        "id": "ylSl6qgtp1ck"
      }
    },
    {
      "cell_type": "markdown",
      "source": [
        "We want to compare minimum nights count. Hence Bar chart is suitable here."
      ],
      "metadata": {
        "id": "m2xqNkiQp1ck"
      }
    },
    {
      "cell_type": "markdown",
      "source": [
        "##### 2. What is/are the insight(s) found from the chart?"
      ],
      "metadata": {
        "id": "ZWILFDl5p1ck"
      }
    },
    {
      "cell_type": "markdown",
      "source": [
        "1.  The majority of listings on Airbnb have a minimum stay requirement of 1 or 2 nights, with 12067 and 11080 listings, respectively.\n",
        "\n",
        "2.  The number of listings with a minimum stay requirement decreases as the length of stay increases, with 7375 listings requiring a minimum stay of 3 nights, and so on.\n",
        "\n",
        "3.  There are relatively few listings with a minimum stay requirement of 30 nights or more, with 3489 and 189 listings, respectively."
      ],
      "metadata": {
        "id": "x-lUsV2mp1ck"
      }
    },
    {
      "cell_type": "markdown",
      "source": [
        "##### 3. Will the gained insights help creating a positive business impact?\n",
        "Are there any insights that lead to negative growth? Justify with specific reason."
      ],
      "metadata": {
        "id": "M7G43BXep1ck"
      }
    },
    {
      "cell_type": "markdown",
      "source": [
        "Stay requirement of lisiting should be as low as possible to attract more travellers and increse business."
      ],
      "metadata": {
        "id": "5wwDJXsLp1cl"
      }
    },
    {
      "cell_type": "markdown",
      "source": [
        "#### Chart - 13 - Correlation Heatmap"
      ],
      "metadata": {
        "id": "NC_X3p0fY2L0"
      }
    },
    {
      "cell_type": "code",
      "source": [
        "# Correlation Heatmap visualization code\n",
        "\n",
        "# Dropping columns which doesn't have data type float for performing correlation operation\n",
        "airbnb_for_corr = airbnb_df.drop(['name', 'host_name', 'neighbourhood_group','neighbourhood', 'room_type'], axis=1)\n",
        "\n",
        "# Calculate pairwise correlations between columns\n",
        "corr = airbnb_for_corr.corr()\n",
        "\n",
        "# Display the correlation between columns\n",
        "corr"
      ],
      "metadata": {
        "id": "xyC9zolEZNRQ"
      },
      "execution_count": null,
      "outputs": []
    },
    {
      "cell_type": "code",
      "source": [
        "# Set the figure size\n",
        "plt.figure(figsize=(12,6))\n",
        "\n",
        "# Visualize correlations as a heatmap\n",
        "sns.heatmap(corr, cmap='BrBG',annot=True)\n",
        "\n",
        "# Display heatmap\n",
        "plt.show()"
      ],
      "metadata": {
        "id": "lA720QnXYsEO"
      },
      "execution_count": null,
      "outputs": []
    },
    {
      "cell_type": "markdown",
      "source": [
        "##### 1. Why did you pick the specific chart?"
      ],
      "metadata": {
        "id": "UV0SzAkaZNRQ"
      }
    },
    {
      "cell_type": "markdown",
      "source": [
        "Heatmap shows relationship between many pairs of numeric variables."
      ],
      "metadata": {
        "id": "DVPuT8LYZNRQ"
      }
    },
    {
      "cell_type": "markdown",
      "source": [
        "##### 2. What is/are the insight(s) found from the chart?"
      ],
      "metadata": {
        "id": "YPEH6qLeZNRQ"
      }
    },
    {
      "cell_type": "markdown",
      "source": [
        "1.   Correlation between most of the pairs of variables is positive.\n",
        "2.   Heatmap shows there is strong positive correalation between number_of_reviews and reviews_per_month, which suggests that listings with more total reviews tend to have more reviews per month.\n",
        "3.   There is a moderate positive correlation (0.23) between the calculated_host_listings_count column and the availability_365 column, which suggests that hosts with more listings tend to have more days of availability in the next 365 days."
      ],
      "metadata": {
        "id": "bfSqtnDqZNRR"
      }
    },
    {
      "cell_type": "markdown",
      "source": [
        "#### Chart - 14 - Pair Plot"
      ],
      "metadata": {
        "id": "q29F0dvdveiT"
      }
    },
    {
      "cell_type": "code",
      "source": [
        "# Pair Plot visualization code\n",
        "# create a pairplot using the seaborn library to visualize the relationships between different variables in the Airbnb NYC dataset\n",
        "sns.pairplot(airbnb_df)\n",
        "\n",
        "# show the plot\n",
        "plt.show()"
      ],
      "metadata": {
        "id": "o58-TEIhveiU"
      },
      "execution_count": null,
      "outputs": []
    },
    {
      "cell_type": "markdown",
      "source": [
        "##### 1. Why did you pick the specific chart?"
      ],
      "metadata": {
        "id": "EXh0U9oCveiU"
      }
    },
    {
      "cell_type": "markdown",
      "source": [
        "A pair plot consists of multiple scatterplots arranged in a grid, with each scatterplot showing the relationship between two variables."
      ],
      "metadata": {
        "id": "eMmPjTByveiU"
      }
    },
    {
      "cell_type": "markdown",
      "source": [
        "Answer Here"
      ],
      "metadata": {
        "id": "uPQ8RGwHveiV"
      }
    },
    {
      "cell_type": "markdown",
      "source": [
        "## **5. Solution to Business Objective**"
      ],
      "metadata": {
        "id": "JcMwzZxoAimU"
      }
    },
    {
      "cell_type": "markdown",
      "source": [
        "#### What do you suggest the client to achieve Business Objective ?\n",
        "Explain Briefly."
      ],
      "metadata": {
        "id": "8G2x9gOozGDZ"
      }
    },
    {
      "cell_type": "markdown",
      "source": [
        "\n",
        "\n",
        "*   Manhattan and Brooklyn have the highest demand for Airbnb rentals due to large number of listings in these neighborhoods. This makes them attractive for future investments for hosts.\n",
        "*   Queens and Bronx are 3rd and 4th in terms of listing counts respectively after Manhattan and Brooklyn with good listing difference.\n",
        "Hence Airbnb have good opportunity in Queens and Bronx for business.\n",
        "\n",
        "*   The majority of the listings are of type entire home and private room. There are very less listings of type shared room. Hence Airbnb can also think of providing more number of shared rooms to allow flexibility for guests to choose.\n",
        "*   There are considerable number of listings with around 30 minimum night stays. Tourists generally prefer to stay 3 to 4 days on average and maximum a week. Airbnb shoud focus on listings where there are lesser minimum night stay requirement.\n",
        "\n",
        "\n",
        "\n"
      ],
      "metadata": {
        "id": "pASKb0qOza21"
      }
    },
    {
      "cell_type": "markdown",
      "source": [
        "# **Conclusion**"
      ],
      "metadata": {
        "id": "gCX9965dhzqZ"
      }
    },
    {
      "cell_type": "markdown",
      "source": [
        "\n",
        "\n",
        "*   Manhattan and Brooklyn have highest number of listing count as well as high number of hosts.\n",
        "*   Even if Manhattan and Brooklyn have nearly same stats in case of listing count and host count, Average price of listing in Manhattan is more than that of Brooklyn suggesting high demand for listings in Manhattan.\n",
        "\n",
        "*   The data indicates that the availability of Airbnb rentals varies significantly across neighborhoods, with some neighborhoods having a high concentration of listings and others having relatively few.\n",
        "*   Some hosts have higher number of listings which goes around 200 to 300 while other hosts have relatively fewer listings. Hence, Small number of hosts dominates the larger portion of the market.\n",
        "\n",
        "\n",
        "\n"
      ],
      "metadata": {
        "id": "Fjb1IsQkh3yE"
      }
    },
    {
      "cell_type": "markdown",
      "source": [
        "# **Thank you**"
      ],
      "metadata": {
        "id": "gIfDvo9L0UH2"
      }
    }
  ]
}